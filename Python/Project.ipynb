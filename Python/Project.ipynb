{
 "metadata": {
  "language_info": {
   "codemirror_mode": {
    "name": "ipython",
    "version": 3
   },
   "file_extension": ".py",
   "mimetype": "text/x-python",
   "name": "python",
   "nbconvert_exporter": "python",
   "pygments_lexer": "ipython3",
   "version": "3.8.5-final"
  },
  "orig_nbformat": 2,
  "kernelspec": {
   "name": "python3",
   "display_name": "Python 3",
   "language": "python"
  }
 },
 "nbformat": 4,
 "nbformat_minor": 2,
 "cells": [
  {
   "source": [
    "NAME: SHUBHAM TAKANKHAR <HR>\n",
    "CLASS: SY MCA <HR>\n",
    "ROLL NO.: 54"
   ],
   "cell_type": "markdown",
   "metadata": {}
  },
  {
   "source": [
    "##  WAP to print index at which a particular value exists. If the value exists at multiple locations in the list then print all the indices. Also count the number of times that value is repeated in the list."
   ],
   "cell_type": "markdown",
   "metadata": {}
  },
  {
   "cell_type": "code",
   "execution_count": 5,
   "metadata": {},
   "outputs": [
    {
     "output_type": "stream",
     "name": "stdout",
     "text": [
      "Value is present at these index position(s):[1, 5, 7]\n2 has occurred 3 times\n"
     ]
    }
   ],
   "source": [
    "value = int(input(\"Enter the value to find?\"))\n",
    "\n",
    "lists = [1, 2, 8, 22, 18, 2, 50, 2, 12] \n",
    "\n",
    "def count(nums,c):\n",
    "    count=0\n",
    "    for i in range(len(nums)):\n",
    "        if nums[i]==c:\n",
    "            count+=1\n",
    "    return count\n",
    "\n",
    "index = []\n",
    "for  i in range(len(lists)):\n",
    "     if lists[i]==value:\n",
    "            index.append(i)\n",
    "print(\"Value is present at these index position(s):\"+str(index))\n",
    "print('{} has occurred {} times'.format(value, count(lists, value))) "
   ]
  },
  {
   "source": [
    "## WAP to remove all the duplicates from a list."
   ],
   "cell_type": "markdown",
   "metadata": {}
  },
  {
   "cell_type": "code",
   "execution_count": 6,
   "metadata": {},
   "outputs": [
    {
     "output_type": "stream",
     "name": "stdout",
     "text": [
      "Given List :  [1, 2, 3, 1, 2, 4, 5, 4, 6, 2]\nList After removing duplicates :  [1, 2, 3, 4, 5, 6]\n"
     ]
    }
   ],
   "source": [
    "list = [1, 2, 3, 1, 2, 4, 5, 4 ,6, 2]\n",
    "print(\"Given List : \", list)\n",
    "temp_list = []\n",
    "\n",
    "for i in list:\n",
    "    if i not in temp_list:\n",
    "        temp_list.append(i)\n",
    "\n",
    "my_list = temp_list\n",
    "print(\"List After removing duplicates : \", my_list)\n"
   ]
  },
  {
   "source": [
    "## WAP that creates a list of 10 random integers. Then create two lists – odd list and even list."
   ],
   "cell_type": "markdown",
   "metadata": {}
  },
  {
   "cell_type": "code",
   "execution_count": 131,
   "metadata": {},
   "outputs": [
    {
     "output_type": "stream",
     "name": "stdout",
     "text": [
      "Random List:[8, 4, 1, 2, 8, 3, 7, 4, 1, 2]\nEven List:[8, 4, 2, 8, 4, 2]\nOdd List:[1, 3, 7, 1]\n"
     ]
    }
   ],
   "source": [
    "import random\n",
    "ints=[]\n",
    "\n",
    "for i in range(10):\n",
    "    ints.append(random.randrange(11))\n",
    "oddList=[]\n",
    "evenList=[]\n",
    "print(\"Random List:\"+str(ints))\n",
    "\n",
    "for i in ints:\n",
    "    if i%2==0:\n",
    "        evenList.append(i)\n",
    "    else:\n",
    "        oddList.append(i)\n",
    "\n",
    "print(\"Even List:\"+str(evenList))\n",
    "print(\"Odd List:\"+str(oddList))\n"
   ]
  },
  {
   "source": [
    "## WAP to generate Fibonacci sequence and store it in a list. Then find the sum of even valued terms."
   ],
   "cell_type": "markdown",
   "metadata": {}
  },
  {
   "cell_type": "code",
   "execution_count": 138,
   "metadata": {},
   "outputs": [
    {
     "output_type": "stream",
     "name": "stdout",
     "text": [
      "Fibbonacci series =  [0, 1, 1, 2, 3, 5, 8, 13, 21, 34, 55, 89]\nSum of Even Terms =  44\n"
     ]
    }
   ],
   "source": [
    "\n",
    "def fibo(num):\n",
    "    temp=0\n",
    "    fibonos=[0,1]\n",
    "\n",
    "    if num > 2:\n",
    "        for i in range(2,num):\n",
    "            fibonos.append(fibonos[i-1]+fibonos[i-2])\n",
    "    return fibonos\n",
    "\n",
    "def evenTerms(fiboList):\n",
    "    sums=[]\n",
    "    for i in fiboList:\n",
    "        if i%2 == 0:\n",
    "            sums.append(i)\n",
    "    return(sum(sums))\n",
    "\n",
    "\n",
    "num = int(input(\"Enter Range of Fibonnacci series:\")) #12\n",
    "print(\"Fibbonacci series = \",fibo(num))\n",
    "print(\"Sum of Even Terms = \",evenTerms(fibo(num)))\n",
    "\n"
   ]
  },
  {
   "source": [
    "## WAP that scans an email address and form a tuple of user name and domain."
   ],
   "cell_type": "markdown",
   "metadata": {}
  },
  {
   "cell_type": "code",
   "execution_count": 147,
   "metadata": {},
   "outputs": [
    {
     "output_type": "stream",
     "name": "stdout",
     "text": [
      "Username:shubham\ndomain:mail.com\n\nUsername:takankhar\ndomain:gmail.com\n\nUsername:vit\ndomain:vit.edu\n\n"
     ]
    }
   ],
   "source": [
    "mails = [\"shubham@mail.com\",\"takankhar@gmail.com\",\"vit@vit.edu\"]\n",
    "\n",
    "for mail in mails:\n",
    "    username = (mail.split('@')[0])\n",
    "    domain = (mail.split('@')[1])\n",
    "\n",
    "    print(\"Username:\"+username)\n",
    "    print(\"domain:\"+domain)\n",
    "    print()\n",
    "\n"
   ]
  },
  {
   "source": [
    "## WAP to find the union, intersection, difference between two sets."
   ],
   "cell_type": "markdown",
   "metadata": {}
  },
  {
   "cell_type": "code",
   "execution_count": 148,
   "metadata": {},
   "outputs": [
    {
     "output_type": "stream",
     "name": "stdout",
     "text": [
      "Union =  {0, 1, 2, 3, 4, 5, 6, 7, 8, 9, 10}\nIntersection =  {5}\nDifference =  {0, 2, 4, 6, 8, 10}\n"
     ]
    }
   ],
   "source": [
    "set1 = {0, 2, 4, 6, 8, 5, 10}; \n",
    "set2 = {1, 3, 5, 7, 9}; \n",
    "\n",
    "print(\"Union = \", set1 | set2) \n",
    "print(\"Intersection = \", set1 & set2) \n",
    "print(\"Difference = \", set1 - set2) \n"
   ]
  },
  {
   "cell_type": "code",
   "execution_count": null,
   "metadata": {},
   "outputs": [],
   "source": []
  }
 ]
}