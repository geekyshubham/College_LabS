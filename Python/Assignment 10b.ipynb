{
 "metadata": {
  "language_info": {
   "codemirror_mode": {
    "name": "ipython",
    "version": 3
   },
   "file_extension": ".py",
   "mimetype": "text/x-python",
   "name": "python",
   "nbconvert_exporter": "python",
   "pygments_lexer": "ipython3",
   "version": "3.8.5-final"
  },
  "orig_nbformat": 2,
  "kernelspec": {
   "name": "Python 3.8.5 32-bit",
   "display_name": "Python 3.8.5 32-bit",
   "metadata": {
    "interpreter": {
     "hash": "0db1c6882aebd70d08b8e99fbeb56982e7f0db886414c1d60e3a71076107aa49"
    }
   }
  }
 },
 "nbformat": 4,
 "nbformat_minor": 2,
 "cells": [
  {
   "source": [
    "# A function can return more than one value"
   ],
   "cell_type": "markdown",
   "metadata": {}
  },
  {
   "cell_type": "code",
   "execution_count": 3,
   "metadata": {},
   "outputs": [
    {
     "output_type": "stream",
     "name": "stdout",
     "text": [
      "(2, 1)\n"
     ]
    }
   ],
   "source": [
    "def swap(a,b):\n",
    "    a,b=b,a\n",
    "    return a,b\n",
    "print(swap(1,2))"
   ]
  },
  {
   "source": [
    "# WAP to find the position of minimum and maximum number in a list."
   ],
   "cell_type": "markdown",
   "metadata": {}
  },
  {
   "cell_type": "code",
   "execution_count": 38,
   "metadata": {},
   "outputs": [
    {
     "output_type": "stream",
     "name": "stdout",
     "text": [
      "list: [1, 2, 3, 4, 5, 6, 7, 8, 9, 10]\nPosition of Minimum No:1\nPosition of Maximum No:10\n"
     ]
    }
   ],
   "source": [
    "lists=[i for i in range(1,11)]\n",
    "print('list:',lists)\n",
    "print(\"Position of Minimum No:\",end='')\n",
    "print(lists.index(min(lists))+1)\n",
    "print(\"Position of Maximum No:\",end='')\n",
    "print(lists.index(max(lists))+1)"
   ]
  },
  {
   "source": [
    "# Python program to remove multiple elements from a list using list comprehension"
   ],
   "cell_type": "markdown",
   "metadata": {}
  },
  {
   "cell_type": "code",
   "execution_count": 16,
   "metadata": {},
   "outputs": [
    {
     "output_type": "stream",
     "name": "stdout",
     "text": [
      "[1, 2, 3, 4, 5, 6, 7, 8, 9, 10]\n[0, 1, 2, 3, 4]\n"
     ]
    }
   ],
   "source": [
    "lists = [i for i in range(1,11)]\n",
    "print(lists)\n",
    "#removing elements\n",
    "lists=[x for x in range(20) if x < 5]\n",
    "print(lists)"
   ]
  },
  {
   "source": [
    "# Python program to check if a string is palindrome or not"
   ],
   "cell_type": "markdown",
   "metadata": {}
  },
  {
   "cell_type": "code",
   "execution_count": 22,
   "metadata": {},
   "outputs": [
    {
     "output_type": "stream",
     "name": "stdout",
     "text": [
      "tenet\n"
     ]
    }
   ],
   "source": [
    "string=input()\n",
    "\n",
    "if string == string[::-1]:\n",
    "    print(\"Palandrome\")\n",
    "else:\n",
    "    print(\"Not palandrome\")\n"
   ]
  },
  {
   "source": [
    "# Python program to count occurrence of a word in the given text"
   ],
   "cell_type": "markdown",
   "metadata": {}
  },
  {
   "cell_type": "code",
   "execution_count": 34,
   "metadata": {},
   "outputs": [
    {
     "output_type": "stream",
     "name": "stdout",
     "text": [
      "{'Lorem': 2, 'ipsum': 2, 'dolor': 2, 'sit': 2, 'amet,': 2, 'consectetur': 2, 'adipiscing': 2, 'elit': 2}\n"
     ]
    }
   ],
   "source": [
    "text=\"Lorem ipsum dolor sit amet, consectetur adipiscing elit Lorem ipsum dolor sit amet, consectetur adipiscing elit\"\n",
    "\n",
    "words=text.split(' ')\n",
    "dicts={}\n",
    "for word in words:\n",
    "    if word in dicts:\n",
    "        dicts[word]+=1\n",
    "    else:\n",
    "        dicts[word]=1\n",
    "print(dicts)"
   ]
  },
  {
   "source": [
    "# Python | Generate dictionary of numbers and their squares (i, i*i) from 1 to 10\n"
   ],
   "cell_type": "markdown",
   "metadata": {}
  },
  {
   "cell_type": "code",
   "execution_count": 35,
   "metadata": {},
   "outputs": [
    {
     "output_type": "stream",
     "name": "stdout",
     "text": [
      "{1: 1, 2: 4, 3: 9, 4: 16, 5: 25, 6: 36, 7: 49, 8: 64, 9: 81, 10: 100}\n"
     ]
    }
   ],
   "source": [
    "squares={}\n",
    "\n",
    "for i in range(1,11):\n",
    "    squares[i]=i*i\n",
    "\n",
    "print(squares)"
   ]
  },
  {
   "source": [
    "# Program to print words with their length of a string\n"
   ],
   "cell_type": "markdown",
   "metadata": {}
  },
  {
   "cell_type": "code",
   "execution_count": 37,
   "metadata": {},
   "outputs": [
    {
     "output_type": "stream",
     "name": "stdout",
     "text": [
      "Word is Lorem and its length is 5\nWord is ipsum and its length is 5\nWord is dolor and its length is 5\nWord is sit and its length is 3\nWord is amet and its length is 4\nWord is consectetur and its length is 11\nWord is adipiscing and its length is 10\nWord is elit and its length is 4\n"
     ]
    }
   ],
   "source": [
    "text=\"Lorem ipsum dolor sit amet consectetur adipiscing elit\"\n",
    "\n",
    "for word in text.split(' '):\n",
    "    print(\"Word is \"+word+\" and its length is \"+str(len(word)))\n"
   ]
  }
 ]
}