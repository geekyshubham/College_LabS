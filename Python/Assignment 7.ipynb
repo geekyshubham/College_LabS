{
 "metadata": {
  "language_info": {
   "codemirror_mode": {
    "name": "ipython",
    "version": 3
   },
   "file_extension": ".py",
   "mimetype": "text/x-python",
   "name": "python",
   "nbconvert_exporter": "python",
   "pygments_lexer": "ipython3",
   "version": "3.8.5-final"
  },
  "orig_nbformat": 2,
  "kernelspec": {
   "name": "Python 3.8.5 32-bit",
   "display_name": "Python 3.8.5 32-bit",
   "metadata": {
    "interpreter": {
     "hash": "0db1c6882aebd70d08b8e99fbeb56982e7f0db886414c1d60e3a71076107aa49"
    }
   }
  }
 },
 "nbformat": 4,
 "nbformat_minor": 2,
 "cells": [
  {
   "cell_type": "code",
   "execution_count": 1,
   "metadata": {},
   "outputs": [
    {
     "output_type": "execute_result",
     "data": {
      "text/plain": [
       "'\\nNAME: SHUBHAM TAKANKHAR \\nCLASS: SY MCA\\nROLL NO: 54\\n'"
      ]
     },
     "metadata": {},
     "execution_count": 1
    }
   ],
   "source": [
    "\"\"\"\n",
    "NAME: SHUBHAM TAKANKHAR \n",
    "CLASS: SY MCA\n",
    "ROLL NO: 54\n",
    "\"\"\""
   ]
  },
  {
   "cell_type": "code",
   "execution_count": 2,
   "metadata": {},
   "outputs": [],
   "source": [
    "#Q1 WAP that creates two sets- squares and cubes in range 1-10.Demonstrate the use of update(),pop(),remove(),add() and clear functions."
   ]
  },
  {
   "cell_type": "code",
   "execution_count": 3,
   "metadata": {
    "tags": []
   },
   "outputs": [
    {
     "output_type": "stream",
     "name": "stdout",
     "text": [
      "AFTER POPPING ELEMENT\n[1, 2, 3, 4]\nAFTER REMOVING ELEMENT 2\n[1, 3, 4]\nAFTER UPDATING SET WITH LIST ELEMENT\n{1, 2, 3, 4}\nAFTER ADDING 5 TO SET\n{1, 2, 3, 4, 5}\nCLEARING SET\nset()\n"
     ]
    }
   ],
   "source": [
    "\n",
    "lists=[1,2,3,4,5]\n",
    "\n",
    "lists.pop(4)\n",
    "print(\"AFTER POPPING ELEMENT\")\n",
    "print(lists)\n",
    "\n",
    "lists.remove(2)\n",
    "print(\"AFTER REMOVING ELEMENT 2\")\n",
    "print(lists)\n",
    "\n",
    "sets={1,2}\n",
    "sets.update(lists)\n",
    "print(\"AFTER UPDATING SET WITH LIST ELEMENT\")\n",
    "print(sets)\n",
    "\n",
    "sets.add(5)\n",
    "print(\"AFTER ADDING 5 TO SET\")\n",
    "\n",
    "print(sets)\n",
    "print(\"CLEARING SET\")\n",
    "\n",
    "sets.clear()\n",
    "print(sets)"
   ]
  },
  {
   "cell_type": "code",
   "execution_count": 4,
   "metadata": {},
   "outputs": [],
   "source": [
    "#Q2 WAP that has a list of countries. Create a set of countries and print the names of countries in sorted order."
   ]
  },
  {
   "cell_type": "code",
   "execution_count": 5,
   "metadata": {
    "tags": []
   },
   "outputs": [
    {
     "output_type": "stream",
     "name": "stdout",
     "text": [
      "['Afghanistan', 'Albania', 'Algeria', 'Andorra', 'Angola', 'Argentina', 'Armenia', 'Australia', 'Austria', 'Azerbaijan', 'Bahamas', 'Bahrain', 'Bangladesh', 'Barbados', 'Belarus', 'Belgium', 'Belize', 'Benin', 'Bhutan', 'Bolivia', 'Botswana', 'Brazil', 'Brunei', 'Bulgaria', 'Chad', 'Chile', 'Colombia', 'Denmark', 'Djibouti', 'Fiji', 'Finland', 'France', 'Gabon', 'Gaza', 'Republic of China', 'United States of America']\n"
     ]
    }
   ],
   "source": [
    "#print names in sorted order\n",
    "countries=['United States of America', 'Afghanistan', 'Albania', 'Algeria', 'Andorra', 'Angola', 'Argentina', 'Armenia', 'Australia', 'Austria', 'Azerbaijan', 'Bahamas', 'Bahrain', 'Bangladesh', 'Barbados', 'Belarus', 'Belgium', 'Belize', 'Benin', 'Bhutan', 'Bolivia', 'Botswana', 'Brazil', 'Brunei', 'Bulgaria',  'Chad', 'Chile', 'Republic of China',  'Colombia','Denmark', 'Djibouti', 'Fiji', 'Finland', 'France', 'Gabon', 'Gaza']\n",
    "\n",
    "countries.sort()\n",
    "\n",
    "sortedCountries=sorted(set(countries))\n",
    "\n",
    "print(sortedCountries)\n",
    "\n"
   ]
  },
  {
   "cell_type": "code",
   "execution_count": 6,
   "metadata": {},
   "outputs": [],
   "source": [
    "#Q3 WAP ask user to enter a msg and count print number of occurrences of each character"
   ]
  },
  {
   "cell_type": "code",
   "execution_count": 7,
   "metadata": {
    "tags": []
   },
   "outputs": [
    {
     "output_type": "stream",
     "name": "stdout",
     "text": [
      "{'m': 3, 'y': 1, ' ': 3, 'n': 1, 'a': 2, 'e': 1, 'i': 1, 's': 2, 'h': 2, 'u': 1, 'b': 1}\n"
     ]
    }
   ],
   "source": [
    "\n",
    "msg=input(\"ENTER MESSAGE:\") #my name is shubham\n",
    "lists=[]\n",
    "dicts={}\n",
    "for c in msg:\n",
    "    if c in lists:\n",
    "        dicts[c]+=1\n",
    "    else:\n",
    "        lists.append(c)\n",
    "        dicts[c]=1\n",
    "print(dicts)"
   ]
  },
  {
   "cell_type": "code",
   "execution_count": 8,
   "metadata": {},
   "outputs": [],
   "source": [
    "#Q3 WAP that creates dictionary of cube of odd numbers from 5 -15"
   ]
  },
  {
   "cell_type": "code",
   "execution_count": 9,
   "metadata": {
    "tags": []
   },
   "outputs": [
    {
     "output_type": "stream",
     "name": "stdout",
     "text": [
      "{5: 125, 7: 343, 9: 729, 11: 1331, 13: 2197, 15: 3375}\n"
     ]
    }
   ],
   "source": [
    "\n",
    "dicts={}\n",
    "for i in range(5,16):\n",
    "    if i % 2==1:\n",
    "        dicts[i]=i*i*i\n",
    "print(dicts)"
   ]
  }
 ]
}