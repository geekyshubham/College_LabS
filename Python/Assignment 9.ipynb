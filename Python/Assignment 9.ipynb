{
 "metadata": {
  "language_info": {
   "codemirror_mode": {
    "name": "ipython",
    "version": 3
   },
   "file_extension": ".py",
   "mimetype": "text/x-python",
   "name": "python",
   "nbconvert_exporter": "python",
   "pygments_lexer": "ipython3",
   "version": "3.8.5-final"
  },
  "orig_nbformat": 2,
  "kernelspec": {
   "name": "Python 3.8.5 32-bit",
   "display_name": "Python 3.8.5 32-bit",
   "metadata": {
    "interpreter": {
     "hash": "0db1c6882aebd70d08b8e99fbeb56982e7f0db886414c1d60e3a71076107aa49"
    }
   }
  }
 },
 "nbformat": 4,
 "nbformat_minor": 2,
 "cells": [
  {
   "source": [
    "## Q1 WAP to find the factorial of a number using recursion and without using recursion."
   ],
   "cell_type": "markdown",
   "metadata": {}
  },
  {
   "cell_type": "code",
   "execution_count": 10,
   "metadata": {},
   "outputs": [
    {
     "output_type": "stream",
     "name": "stdout",
     "text": [
      "USING RECURSION:24\nWITHOUT RECURSION:24\n"
     ]
    }
   ],
   "source": [
    "num = int(input(\"ENTER NUMBER:\")) #4\n",
    "def fact(n):\n",
    "    if n>1:\n",
    "        return n*fact(n-1)\n",
    "    else:\n",
    "        return n\n",
    "\n",
    "print(\"USING RECURSION:\"+str(fact(num)))\n",
    "fact=1\n",
    "for i in range(num,0,-1):\n",
    "    fact *= i\n",
    "\n",
    "print(\"WITHOUT RECURSION:\"+str(fact))\n"
   ]
  },
  {
   "source": [
    "## Q2 WAP to  read an integer number. Print the reverse of this number using recursion and without using recursion."
   ],
   "cell_type": "markdown",
   "metadata": {}
  },
  {
   "cell_type": "code",
   "execution_count": 37,
   "metadata": {},
   "outputs": [
    {
     "output_type": "stream",
     "name": "stdout",
     "text": [
      "Reverse using recursion: 8634\nReverse without recursion: 8634"
     ]
    }
   ],
   "source": [
    "Num = int(input(\"Please Enter any Number: \"))\n",
    " \n",
    "Result = 0\n",
    "def Result_Int(Num):\n",
    "    global Result\n",
    "    if(Num > 0):\n",
    "        Reminder = Num %10\n",
    "        Result = (Result *10) + Reminder\n",
    "        Result_Int(Num //10)\n",
    "    return Result\n",
    " \n",
    "Result = Result_Int(Num)\n",
    "print(\"Reverse using recursion: %d\" %Result)\n",
    "\n",
    "num=str(Num)\n",
    "print(\"Reverse without recursion: \",end='')\n",
    "for i in num[::-1]:\n",
    "    print(i,end='')\n"
   ]
  },
  {
   "source": [
    "## Q3 WAP to concatenate two strings using recursion and without using recursion."
   ],
   "cell_type": "markdown",
   "metadata": {}
  },
  {
   "cell_type": "code",
   "execution_count": 78,
   "metadata": {},
   "outputs": [
    {
     "output_type": "stream",
     "name": "stdout",
     "text": [
      "with recursion: shubhamtakankhar\n\nwithout recursion: shubhamtakankhar\n"
     ]
    }
   ],
   "source": [
    "a=\"shubham\"\n",
    "b=\"takankhar\"\n",
    "l=[a,b]\n",
    "\n",
    "f = lambda L: ''.join([f(x) if type(x) is list else x for x in L])\n",
    "\n",
    "print(\"with recursion:\",f(l))\n",
    "\n",
    "print(\"\\nwithout recursion: \"+a+b)\n"
   ]
  },
  {
   "source": [
    "## Q4 WAP using a function that returns the surface area and volume of a sphere."
   ],
   "cell_type": "markdown",
   "metadata": {}
  },
  {
   "cell_type": "code",
   "execution_count": 3,
   "metadata": {},
   "outputs": [
    {
     "output_type": "stream",
     "name": "stdout",
     "text": [
      "ENTER RADIUS OF SPHERE\n",
      "AREA OF SPHERE: 201\n",
      "VOLUME OF SPHERE: 268\n"
     ]
    }
   ],
   "source": [
    "def area(r):\n",
    "    return 4*3.14*(r*r)\n",
    "def volume(r):\n",
    "    return 4/3*3.14*(r**3)\n",
    "    \n",
    "print(\"ENTER RADIUS OF SPHERE\")\n",
    "rad=int(input()) #4\n",
    "print(\"AREA OF SPHERE:\",round(area(rad)))\n",
    "print(\"VOLUME OF SPHERE:\",round(volume(rad)))\n",
    "\n"
   ]
  },
  {
   "source": [
    "## Q5 WAP to reverse a string using recursion and without using recursion."
   ],
   "cell_type": "markdown",
   "metadata": {}
  },
  {
   "cell_type": "code",
   "execution_count": 76,
   "metadata": {},
   "outputs": [
    {
     "output_type": "stream",
     "name": "stdout",
     "text": [
      "ORIGINAL STRING: shubham\nUSING RECURSION: mahbuhs\nWITHOUT RECURSION: mahbuhs"
     ]
    }
   ],
   "source": [
    "def reverse(str):\n",
    "    if len(str) == 0:\n",
    "        return str\n",
    "    else:\n",
    "        return reverse(str[1:]) + str[0]\n",
    "print(\"ORIGINAL STRING: shubham\")\n",
    "print(\"USING RECURSION:\",reverse(\"shubham\"))\n",
    "print(\"WITHOUT RECURSION: \",end='')\n",
    "for i in \"shubham\"[::-1]:\n",
    "    print(i,end='')"
   ]
  },
  {
   "source": [
    "## Q6 WAP to find the Fibonacci series using recursion and without recursion"
   ],
   "cell_type": "markdown",
   "metadata": {}
  },
  {
   "cell_type": "code",
   "execution_count": 73,
   "metadata": {},
   "outputs": [
    {
     "output_type": "stream",
     "name": "stdout",
     "text": [
      "WITH RECURSION:34\nWITHOUT RECURSION:34\n"
     ]
    }
   ],
   "source": [
    "def fibo(n): \n",
    "    if n<0: \n",
    "        print(\"wrong input\") \n",
    "    elif n==0: \n",
    "        return 0\n",
    "    elif n==1: \n",
    "        return 1\n",
    "    else: \n",
    "        return fibo(n-1)+fibo(n-2) \n",
    "print(\"WITH RECURSION:\",end='')\n",
    "print(fibo(9))\n",
    "\n",
    "def fibonacci(n): \n",
    "    a = 0\n",
    "    b = 1\n",
    "    if n < 0: \n",
    "        print(\"wrong input\") \n",
    "    elif n == 0: \n",
    "        return a \n",
    "    elif n == 1: \n",
    "        return b \n",
    "    else: \n",
    "        for i in range(2,n+1): \n",
    "            c = a + b \n",
    "            a = b \n",
    "            b = c \n",
    "        return b \n",
    "\n",
    "print(\"WITHOUT RECURSION:\",end='')\n",
    "print(fibonacci(9)) "
   ]
  }
 ]
}