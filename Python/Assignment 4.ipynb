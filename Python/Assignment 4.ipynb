{
 "metadata": {
  "language_info": {
   "codemirror_mode": {
    "name": "ipython",
    "version": 3
   },
   "file_extension": ".py",
   "mimetype": "text/x-python",
   "name": "python",
   "nbconvert_exporter": "python",
   "pygments_lexer": "ipython3",
   "version": "3.8.5-final"
  },
  "orig_nbformat": 2,
  "kernelspec": {
   "name": "Python 3.8.5 32-bit",
   "display_name": "Python 3.8.5 32-bit",
   "metadata": {
    "interpreter": {
     "hash": "0db1c6882aebd70d08b8e99fbeb56982e7f0db886414c1d60e3a71076107aa49"
    }
   }
  }
 },
 "nbformat": 4,
 "nbformat_minor": 2,
 "cells": [
  {
   "cell_type": "code",
   "execution_count": null,
   "metadata": {},
   "outputs": [],
   "source": [
    "\"\"\"\n",
    "NAME:SHUBHAM TAKNAKHAR\n",
    "CLASS:MCA SY\n",
    "ROLL NO:54\n",
    "\"\"\""
   ]
  },
  {
   "cell_type": "code",
   "execution_count": 1,
   "metadata": {
    "tags": []
   },
   "outputs": [
    {
     "output_type": "stream",
     "name": "stdout",
     "text": "upper:3\nlower:3\nnumeric:3\n"
    }
   ],
   "source": [
    "# WAP to read a character until a * is encountered. Also count the number of upper case, lower case and numbers entered by the user\n",
    "lower,upper,num=0,0,0\n",
    "inputs=''\n",
    "while '*' not in inputs:\n",
    "    inputs=input(\"Enter Anything:\")\n",
    "    for i in inputs:\n",
    "        if i.isupper():\n",
    "            upper+=1\n",
    "        elif i.islower():\n",
    "            lower+=1\n",
    "        elif i.isnumeric():\n",
    "            num+=1\n",
    "print(\"upper:{}\\nlower:{}\\nnumeric:{}\".format(upper,lower,num))"
   ]
  },
  {
   "cell_type": "code",
   "execution_count": 2,
   "metadata": {
    "tags": []
   },
   "outputs": [
    {
     "output_type": "stream",
     "name": "stdout",
     "text": "         1\n       1 2\n     1 2 3\n   1 2 3 4\n 1 2 3 4 5\n"
    }
   ],
   "source": [
    "# WAP to print the following pattern\n",
    "nums=[]\n",
    "for i in range(1,6):\n",
    "    nums.append(i)\n",
    "    print((\"  \"*(5-i)),*nums)\n",
    "    "
   ]
  },
  {
   "cell_type": "code",
   "execution_count": 3,
   "metadata": {
    "tags": []
   },
   "outputs": [
    {
     "output_type": "stream",
     "name": "stdout",
     "text": "SUM OF CUBES FROM 1 TO 10 IS : 3025\n"
    }
   ],
   "source": [
    "# WAP  to calculate sum of cubes of numbers from 1-n.\n",
    "n=int(input())\n",
    "sums=0\n",
    "for i in range(1,n+1):\n",
    "    sums+= i*i*i\n",
    "print(\"SUM OF CUBES FROM 1 TO {} IS : {}\".format(n,sums))\n"
   ]
  },
  {
   "cell_type": "code",
   "execution_count": 6,
   "metadata": {
    "tags": []
   },
   "outputs": [
    {
     "output_type": "stream",
     "name": "stdout",
     "text": "PRIME COUNT:2\nCOMPOSITE COUNT:3\n"
    }
   ],
   "source": [
    "# WAP that prompts the user to enter the numbers. The process will repeat until user enters -1,Finally the program prints the count of prime numbers and composite numbers.\n",
    "def isPrime(n):\n",
    "    if n > 3:\n",
    "        if n%2==0 or n%3==0:\n",
    "            return 0\n",
    "    return 1\n",
    "prime,composite,inputs=0,0,0\n",
    "while inputs != -1:\n",
    "    inputs=int(input())\n",
    "    if inputs==-1:\n",
    "        break\n",
    "    elif isPrime(inputs):\n",
    "        prime+=1\n",
    "    else:\n",
    "        composite+=1\n",
    "print(\"PRIME COUNT:{}\\nCOMPOSITE COUNT:{}\".format(prime,composite))"
   ]
  }
 ]
}