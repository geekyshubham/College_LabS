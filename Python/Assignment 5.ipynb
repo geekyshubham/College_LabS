{
 "metadata": {
  "language_info": {
   "codemirror_mode": {
    "name": "ipython",
    "version": 3
   },
   "file_extension": ".py",
   "mimetype": "text/x-python",
   "name": "python",
   "nbconvert_exporter": "python",
   "pygments_lexer": "ipython3",
   "version": "3.8.5-final"
  },
  "orig_nbformat": 2,
  "kernelspec": {
   "name": "Python 3.8.5 32-bit",
   "display_name": "Python 3.8.5 32-bit",
   "metadata": {
    "interpreter": {
     "hash": "0db1c6882aebd70d08b8e99fbeb56982e7f0db886414c1d60e3a71076107aa49"
    }
   }
  }
 },
 "nbformat": 4,
 "nbformat_minor": 2,
 "cells": [
  {
   "cell_type": "code",
   "execution_count": 1,
   "metadata": {
    "tags": []
   },
   "outputs": [
    {
     "output_type": "stream",
     "name": "stdout",
     "text": "VOWEL\n"
    }
   ],
   "source": [
    "#1.WAP to determine whether the entered character is vowel or not.\n",
    "\n",
    "vowel=['a','e','i','o','u','A','E','I','O','U']\n",
    "userinput=input()\n",
    "if userinput in vowel:\n",
    "    print(\"VOWEL\")\n",
    "else:\n",
    "    print(\"NOT VOWEL\")"
   ]
  },
  {
   "cell_type": "code",
   "execution_count": 3,
   "metadata": {
    "tags": []
   },
   "outputs": [
    {
     "output_type": "stream",
     "name": "stdout",
     "text": "integer\n"
    }
   ],
   "source": [
    "#2.WAP to take input from user and then check if it is a number or character. If it is character determine it is in upper case or lower case.\n",
    "\n",
    "user=input()\n",
    "\n",
    "try:\n",
    "    int(user)\n",
    "    print(\"integer\")\n",
    "except:\n",
    "    \n",
    "    if user.isupper():\n",
    "        print(\"upper-case\")\n",
    "    elif user.islower():\n",
    "        print(\"lower-case\")\n",
    "    \n"
   ]
  },
  {
   "cell_type": "code",
   "execution_count": 4,
   "metadata": {
    "tags": []
   },
   "outputs": [
    {
     "output_type": "stream",
     "name": "stdout",
     "text": "012345678910"
    }
   ],
   "source": [
    "#3.WAP to enter 0 to 10 and print it in one line.\n",
    "\n",
    "for i in range(11):\n",
    "    print (i,end='')"
   ]
  },
  {
   "cell_type": "code",
   "execution_count": 5,
   "metadata": {
    "tags": []
   },
   "outputs": [
    {
     "output_type": "stream",
     "name": "stdout",
     "text": "55\n"
    }
   ],
   "source": [
    "#4.WAP to calculate the sum of numbers from m to n.\n",
    "\n",
    "m=int(input()) #1\n",
    "n=int(input()) #10\n",
    "sum=0\n",
    "for i in range(m,n+1):\n",
    "    sum+=i\n",
    "print(sum)"
   ]
  },
  {
   "cell_type": "code",
   "execution_count": 6,
   "metadata": {
    "tags": []
   },
   "outputs": [
    {
     "output_type": "stream",
     "name": "stdout",
     "text": "6\n"
    }
   ],
   "source": [
    "#5.WAP to enter a number and find the sum of it’s digits(use while loop)\n",
    "\n",
    "num=input() #123\n",
    "sum=0\n",
    "for i in num:\n",
    "    sum += int(i)\n",
    "print(sum)\n"
   ]
  },
  {
   "cell_type": "code",
   "execution_count": 13,
   "metadata": {
    "tags": []
   },
   "outputs": [
    {
     "output_type": "stream",
     "name": "stdout",
     "text": "10 9 8 7 6 5 4 3 2 1 "
    }
   ],
   "source": [
    "#6.Accept a number from user and print a countdown from that number to zero.\n",
    "\n",
    "num = int(input()) #10\n",
    "\n",
    "for i in range(num,0,-1):\n",
    "        print(i,end=' ')"
   ]
  },
  {
   "cell_type": "code",
   "execution_count": 14,
   "metadata": {
    "tags": []
   },
   "outputs": [
    {
     "output_type": "stream",
     "name": "stdout",
     "text": "s h u b h a m "
    }
   ],
   "source": [
    "#7.Take a string and print all the characters of the string.\n",
    "\n",
    "ustr=input()\n",
    "for i  in ustr:\n",
    "    print(i,end=' ')"
   ]
  },
  {
   "cell_type": "code",
   "execution_count": 15,
   "metadata": {
    "tags": []
   },
   "outputs": [
    {
     "output_type": "stream",
     "name": "stdout",
     "text": "odd: 5\neven: 4\n"
    }
   ],
   "source": [
    "#8.Declare a tuple of numbers 1 ,2,3,4,5,6,7,8,9 and count total number of even and odd numbers.(modulus operator (%))\n",
    "\n",
    "tuples=(1,2,3,4,5,6,7,8,9)\n",
    "even=0\n",
    "odd=0\n",
    "for i in tuples:\n",
    "    if i%2==0:\n",
    "        even+=1\n",
    "    else:\n",
    "        odd+=1\n",
    "print(\"odd: \"+str(odd))\n",
    "print(\"even: \"+str(even))"
   ]
  },
  {
   "cell_type": "code",
   "execution_count": 16,
   "metadata": {
    "tags": []
   },
   "outputs": [
    {
     "output_type": "stream",
     "name": "stdout",
     "text": "<class 'int'>\n<class 'float'>\n<class 'complex'>\n<class 'bool'>\n<class 'tuple'>\n<class 'list'>\n"
    }
   ],
   "source": [
    "#9 list1 = [1452, 11.23, 1+2j, True,  (0, -1), [5, 12]]. Print the data type of each item.\n",
    "\n",
    "list1=[1452,11.23,1+2j,True,(0,-1),[5,12]]\n",
    "for i in list1:\n",
    "    print(type(i))"
   ]
  },
  {
   "cell_type": "code",
   "execution_count": 17,
   "metadata": {
    "tags": []
   },
   "outputs": [
    {
     "output_type": "stream",
     "name": "stdout",
     "text": "{'c1': 'Red', 'c2': 'Green', 'c3': 'Orange'}\n"
    }
   ],
   "source": [
    "#10 Given below dictionary color = {\"c1\": \"Red\", \"c2\": \"Green\", \"c3\": \"Orange\"}.Print all the keys and value of each key.\n",
    "\n",
    "color={\"c1\":\"Red\",\"c2\":\"Green\",\"c3\":\"Orange\"}\n",
    "\n",
    "print(color)"
   ]
  }
 ]
}