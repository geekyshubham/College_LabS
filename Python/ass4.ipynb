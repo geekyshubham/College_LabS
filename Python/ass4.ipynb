{
 "metadata": {
  "language_info": {
   "codemirror_mode": {
    "name": "ipython",
    "version": 3
   },
   "file_extension": ".py",
   "mimetype": "text/x-python",
   "name": "python",
   "nbconvert_exporter": "python",
   "pygments_lexer": "ipython3",
   "version": "3.8.5-final"
  },
  "orig_nbformat": 2,
  "kernelspec": {
   "name": "Python 3.8.5 32-bit",
   "display_name": "Python 3.8.5 32-bit",
   "metadata": {
    "interpreter": {
     "hash": "0db1c6882aebd70d08b8e99fbeb56982e7f0db886414c1d60e3a71076107aa49"
    }
   }
  }
 },
 "nbformat": 4,
 "nbformat_minor": 2,
 "cells": [
  {
   "cell_type": "code",
   "execution_count": 53,
   "metadata": {},
   "outputs": [
    {
     "output_type": "error",
     "ename": "TypeError",
     "evalue": "write() argument must be str, not None",
     "traceback": [
      "\u001b[1;31m---------------------------------------------------------------------------\u001b[0m",
      "\u001b[1;31mTypeError\u001b[0m                                 Traceback (most recent call last)",
      "\u001b[1;32m&lt;ipython-input-53-0317b89cc016&gt;\u001b[0m in \u001b[0;36m&lt;module&gt;\u001b[1;34m\u001b[0m\n\u001b[0;32m     22\u001b[0m \u001b[0mmail\u001b[0m \u001b[1;33m=\u001b[0m \u001b[0mEntry\u001b[0m\u001b[1;33m(\u001b[0m\u001b[0mwindow\u001b[0m\u001b[1;33m,\u001b[0m \u001b[0mbd\u001b[0m \u001b[1;33m=\u001b[0m\u001b[1;36m5\u001b[0m\u001b[1;33m)\u001b[0m\u001b[1;33m.\u001b[0m\u001b[0mgrid\u001b[0m\u001b[1;33m(\u001b[0m\u001b[0mrow\u001b[0m \u001b[1;33m=\u001b[0m \u001b[1;36m2\u001b[0m\u001b[1;33m,\u001b[0m\u001b[0mcolumn\u001b[0m \u001b[1;33m=\u001b[0m \u001b[1;36m1\u001b[0m\u001b[1;33m)\u001b[0m\u001b[1;33m\u001b[0m\u001b[1;33m\u001b[0m\u001b[0m\n\u001b[0;32m     23\u001b[0m \u001b[0mdata\u001b[0m\u001b[1;33m=\u001b[0m\u001b[1;33m[\u001b[0m\u001b[0mname\u001b[0m\u001b[1;33m,\u001b[0m\u001b[0mmobno\u001b[0m\u001b[1;33m,\u001b[0m\u001b[0mmail\u001b[0m\u001b[1;33m]\u001b[0m\u001b[1;33m\u001b[0m\u001b[1;33m\u001b[0m\u001b[0m\n\u001b[1;32m---&gt; 24\u001b[1;33m \u001b[0mfiles\u001b[0m\u001b[1;33m.\u001b[0m\u001b[0mwritelines\u001b[0m\u001b[1;33m(\u001b[0m\u001b[0mdata\u001b[0m\u001b[1;33m)\u001b[0m\u001b[1;33m\u001b[0m\u001b[1;33m\u001b[0m\u001b[0m\n\u001b[0m\u001b[0;32m     25\u001b[0m \u001b[1;33m\u001b[0m\u001b[0m\n\u001b[0;32m     26\u001b[0m \u001b[0mbtn\u001b[0m \u001b[1;33m=\u001b[0m \u001b[0mttk\u001b[0m\u001b[1;33m.\u001b[0m\u001b[0mButton\u001b[0m\u001b[1;33m(\u001b[0m\u001b[0mwindow\u001b[0m \u001b[1;33m,\u001b[0m\u001b[0mtext\u001b[0m\u001b[1;33m=\u001b[0m\u001b[1;34m&quot;Submit&quot;\u001b[0m\u001b[1;33m)\u001b[0m\u001b[1;33m.\u001b[0m\u001b[0mgrid\u001b[0m\u001b[1;33m(\u001b[0m\u001b[0mrow\u001b[0m\u001b[1;33m=\u001b[0m\u001b[1;36m3\u001b[0m\u001b[1;33m,\u001b[0m\u001b[0mcolumn\u001b[0m\u001b[1;33m=\u001b[0m\u001b[1;36m0\u001b[0m\u001b[1;33m)\u001b[0m\u001b[1;33m\u001b[0m\u001b[1;33m\u001b[0m\u001b[0m\n",
      "\u001b[1;31mTypeError\u001b[0m: write() argument must be str, not None"
     ]
    }
   ],
   "source": [
    "from tkinter import *\n",
    "from tkinter import ttk\n",
    "import os\n",
    "\n",
    "window = Tk()\n",
    "window.title(\"BioDATA\")\n",
    "\n",
    "\n",
    "#os.path.join(os.getcwd(), \"user.png\")\n",
    "#image= os.getcwd()+\"\\user.png\"\n",
    "#icon = PhotoImage(file= \"user.png\")\n",
    "#Label(window,image=icon,bg=\"black\").grid(row=0,column=0,sticky=E)\n",
    "\n",
    "L1 = Label(window ,text = \"Name\").grid(row = 0,column = 0)\n",
    "name = Entry(window, bd =5).grid(row = 0,column = 1)\n",
    "\n",
    "L2 = Label(window, text=\"Contact No\").grid(row = 1,column = 0)\n",
    "mobno = Entry(window, bd =5).grid(row = 1,column = 1)\n",
    "\n",
    "L3 = Label(window, text=\"Mail\").grid(row = 2,column = 0)\n",
    "mail = Entry(window, bd =5).grid(row = 2,column = 1)\n",
    "\n",
    "\n",
    "\n",
    "submit = Button(root, text=\"Submit\", fg=\"Black\", \n",
    "                            bg=\"Red\", command=fileWrite) \n",
    "\n",
    "def fileWrite(name,mobno,mail):\n",
    "    \n",
    "    files = open('data.txt', 'w') \n",
    "    data=[name,mobno,mail]\n",
    "    files.writelines(data)\n",
    "\n",
    "window.mainloop()"
   ]
  },
  {
   "cell_type": "code",
   "execution_count": 3,
   "metadata": {
    "tags": []
   },
   "outputs": [
    {
     "output_type": "stream",
     "name": "stdout",
     "text": "[2, 4, 6, 8, 10, 12, 14, 16, 18, 20]\n"
    }
   ],
   "source": [
    "#1. WAP that creates a list of numbers from 1-20  that are either divisible by 2 or 4.\n",
    "lists=[]\n",
    "for i in range(1,21):\n",
    "    if i%2==0 or i%4==0:\n",
    "        lists.append(i)\n",
    "\n",
    "print(lists)"
   ]
  },
  {
   "cell_type": "code",
   "execution_count": 19,
   "metadata": {
    "tags": []
   },
   "outputs": [
    {
     "output_type": "stream",
     "name": "stdout",
     "text": "[1, 2, 3, 4, 5, 6, 7, 8, 9, 10]\n[1, 4, 9, 16, 25, 36, 49, 64, 81, 100]\nsum:385\n"
    }
   ],
   "source": [
    "#WAP using filter/map function to a list of squares of numbers from 1-10. Then use for…in construct to sum the elements in the list generated.\n",
    "\n",
    "lists = [i for i in range(1,11)]\n",
    "print(lists)\n",
    "\n",
    "def sqr(i):\n",
    "    return i*i\n",
    "\n",
    "sqrList=map(sqr,lists)\n",
    "lists= list(sqrList)\n",
    "   \n",
    "print(lists)\n",
    "for i in lists:\n",
    "    sums+=i\n",
    "print(\"sum:\"+str(sums))\n",
    "\n"
   ]
  },
  {
   "cell_type": "code",
   "execution_count": null,
   "metadata": {},
   "outputs": [],
   "source": []
  }
 ]
}