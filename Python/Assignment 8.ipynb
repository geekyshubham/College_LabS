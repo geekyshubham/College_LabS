{
 "metadata": {
  "language_info": {
   "codemirror_mode": {
    "name": "ipython",
    "version": 3
   },
   "file_extension": ".py",
   "mimetype": "text/x-python",
   "name": "python",
   "nbconvert_exporter": "python",
   "pygments_lexer": "ipython3",
   "version": "3.8.5-final"
  },
  "orig_nbformat": 2,
  "kernelspec": {
   "name": "Python 3.8.5 32-bit",
   "display_name": "Python 3.8.5 32-bit",
   "metadata": {
    "interpreter": {
     "hash": "0db1c6882aebd70d08b8e99fbeb56982e7f0db886414c1d60e3a71076107aa49"
    }
   }
  }
 },
 "nbformat": 4,
 "nbformat_minor": 2,
 "cells": [
  {
   "cell_type": "code",
   "execution_count": null,
   "metadata": {},
   "outputs": [],
   "source": [
    "\"\"\"\n",
    "NAME:SHUBHAM TAKANKHAR\n",
    "CLASS: SY MCA\n",
    "ROLL NO: 54\n",
    "\"\"\""
   ]
  },
  {
   "cell_type": "code",
   "execution_count": null,
   "metadata": {},
   "outputs": [],
   "source": [
    "#Q1 Create GUI to enter BIO-DATA using Tkinter and save it in a file."
   ]
  },
  {
   "cell_type": "code",
   "execution_count": 1,
   "metadata": {},
   "outputs": [],
   "source": [
    "\n",
    "def filewrite():\n",
    "    file1 = open(r\"D:\\\\MyFile.txt\",\"a+\") \n",
    "    if (entry_1.get() == \"\" and entry_2.get() == \"\" ): \n",
    "        print(\"empty input\") \n",
    "  \n",
    "    else: \n",
    "        file1.writelines('\\nName:')\n",
    "        file1.writelines(entry_1.get())\n",
    "        file1.writelines('\\nEmail:')\n",
    "        file1.writelines(entry_2.get())\n",
    "        file1.writelines('\\nGender:')\n",
    "        if var.get()==1:\n",
    "            file1.writelines(\"MALE\")\n",
    "        else:\n",
    "            file1.writelines(\"FEMALE\")\n",
    "        file1.writelines('\\nCountry:')\n",
    "\n",
    "        file1.writelines(c.get())\n",
    "\n",
    "        file1.writelines('\\nProgramming:')\n",
    "        if var1.get()==1 and var2.get()==1:\n",
    "            file1.writelines('Python,Java')\n",
    "        elif var2.get()==1:\n",
    "            file1.writelines('Python')\n",
    "        elif var1.get()==1:\n",
    "             file1.writelines('Java')\n",
    "        else:\n",
    "             file1.writelines('None')\n",
    "\n",
    "    file1.close()\n",
    "\n",
    "from tkinter import *\n",
    "\n",
    "root = Tk()\n",
    "\n",
    "var = IntVar()\n",
    "var.set(1)\n",
    "\n",
    "root.geometry('500x500')\n",
    "root.title(\"Registration Form\")\n",
    "\n",
    "label_0 = Label(root, text=\"BIO DATA\",width=20,font=(\"bold\", 20))\n",
    "label_0.place(x=90,y=53)\n",
    "\n",
    "\n",
    "label_1 = Label(root, text=\"FullName\",width=20,font=(\"bold\", 10))\n",
    "label_1.place(x=80,y=130)\n",
    "\n",
    "entry_1 = Entry(root)\n",
    "entry_1.place(x=240,y=130)\n",
    "\n",
    "label_2 = Label(root, text=\"Email\",width=20,font=(\"bold\", 10))\n",
    "label_2.place(x=68,y=180)\n",
    "\n",
    "entry_2 = Entry(root)\n",
    "entry_2.place(x=240,y=180)\n",
    "\n",
    "label_3 = Label(root, text=\"Gender\",width=20,font=(\"bold\", 10))\n",
    "label_3.place(x=70,y=230)\n",
    "var = IntVar()\n",
    "Radiobutton(root, text=\"Male\",padx = 5, variable=var, value=1).place(x=235,y=230)\n",
    "Radiobutton(root, text=\"Female\",padx = 20, variable=var, value=2).place(x=290,y=230)\n",
    "\n",
    "label_4 = Label(root, text=\"country\",width=20,font=(\"bold\", 10))\n",
    "label_4.place(x=70,y=280)\n",
    "\n",
    "list1 = ['Canada','India','UK','Nepal','Iceland','South Africa'];\n",
    "c=StringVar()\n",
    "droplist=OptionMenu(root,c, *list1)\n",
    "droplist.config(width=15)\n",
    "c.set('select your country') \n",
    "droplist.place(x=240,y=280)\n",
    "\n",
    "label_4 = Label(root, text=\"Programming\",width=20,font=(\"bold\", 10))\n",
    "label_4.place(x=85,y=330)\n",
    "var1 = IntVar()\n",
    "Checkbutton(root, text=\"java\", variable=var1).place(x=235,y=330)\n",
    "var2 = IntVar()\n",
    "Checkbutton(root, text=\"python\", variable=var2).place(x=290,y=330)\n",
    "\n",
    "Button(root, text='Submit',width=20,bg='brown',fg='white',command=filewrite).place(x=180,y=380)\n",
    "\n",
    "\n",
    "root.mainloop()\n",
    "\n",
    "\n",
    "\n",
    "\n",
    "\n",
    "\n",
    "\n"
   ]
  },
  {
   "cell_type": "code",
   "execution_count": null,
   "metadata": {},
   "outputs": [],
   "source": []
  }
 ]
}