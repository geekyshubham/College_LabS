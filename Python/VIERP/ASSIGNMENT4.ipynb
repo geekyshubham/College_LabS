{
 "metadata": {
  "language_info": {
   "codemirror_mode": {
    "name": "ipython",
    "version": 3
   },
   "file_extension": ".py",
   "mimetype": "text/x-python",
   "name": "python",
   "nbconvert_exporter": "python",
   "pygments_lexer": "ipython3",
   "version": "3.8.5-final"
  },
  "orig_nbformat": 2,
  "kernelspec": {
   "name": "python3",
   "display_name": "Python 3"
  }
 },
 "nbformat": 4,
 "nbformat_minor": 2,
 "cells": [
  {
   "source": [
    "NAME:SHUBHAM TAKANKHAR <br/>\\\n",
    "CLASS:SY MCA <br/> \\\n",
    "ROLL NO:54 \\"
   ],
   "cell_type": "markdown",
   "metadata": {}
  },
  {
   "source": [
    "# Create a GUI to enter, Name, Roll Number, GR Number and Phone number of a student. Use Tkinter and Dictonary concept"
   ],
   "cell_type": "markdown",
   "metadata": {}
  },
  {
   "cell_type": "code",
   "execution_count": 1,
   "metadata": {},
   "outputs": [],
   "source": [
    "def filewrite():\n",
    "    file1 = open(r\"D:\\\\StudDetails.txt\",\"a+\") \n",
    "    if (entry_1.get() == \"\" and entry_2.get() == \"\" ): \n",
    "        print(\"empty input\") \n",
    "  \n",
    "    else: \n",
    "        file1.writelines('\\nName:')\n",
    "        file1.writelines(entry_1.get())\n",
    "        file1.writelines('\\nRoll No.:')\n",
    "        file1.writelines(entry_2.get())\n",
    "        file1.writelines('\\nGR. No.:')\n",
    "        file1.writelines(entry_3.get())\n",
    "        file1.writelines('\\nPhone No.:')\n",
    "        file1.writelines(entry_4.get())\n",
    "\n",
    "    file1.close()\n",
    "\n",
    "from tkinter import *\n",
    "\n",
    "root = Tk()\n",
    "\n",
    "var = IntVar()\n",
    "var.set(1)\n",
    "\n",
    "root.geometry('500x500')\n",
    "root.title(\"Student Form\")\n",
    "\n",
    "label_0 = Label(root, text=\"Enter Student Details\",width=20,font=(\"bold\", 20))\n",
    "label_0.place(x=90,y=53)\n",
    "\n",
    "\n",
    "label_1 = Label(root, text=\"Name\",width=20,font=(\"bold\", 10))\n",
    "label_1.place(x=80,y=130)\n",
    "\n",
    "entry_1 = Entry(root)\n",
    "entry_1.place(x=240,y=130)\n",
    "\n",
    "label_2 = Label(root, text=\"RollNo.\",width=20,font=(\"bold\", 10))\n",
    "label_2.place(x=68,y=180)\n",
    "\n",
    "entry_2 = Entry(root)\n",
    "entry_2.place(x=240,y=180)\n",
    "\n",
    "label_3 = Label(root, text=\"GR. No.\",width=20,font=(\"bold\", 10))\n",
    "label_3.place(x=70,y=230)\n",
    "var = IntVar()\n",
    "\n",
    "entry_3 = Entry(root)\n",
    "entry_3.place(x=235,y=230)\n",
    "\n",
    "label_4 = Label(root, text=\"Phone Number\",width=20,font=(\"bold\", 10))\n",
    "label_4.place(x=70,y=280)\n",
    "\n",
    "entry_4 = Entry(root)\n",
    "entry_4.place(x=240,y=280)\n",
    "\n",
    "Button(root, text='Submit',width=20,bg='brown',fg='white',command=filewrite).place(x=180,y=380)\n",
    "\n",
    "\n",
    "root.mainloop()\n",
    "\n",
    "\n",
    "\n",
    "\n",
    "\n",
    "\n"
   ]
  }
 ]
}