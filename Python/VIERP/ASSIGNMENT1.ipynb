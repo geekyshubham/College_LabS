{
 "metadata": {
  "language_info": {
   "codemirror_mode": {
    "name": "ipython",
    "version": 3
   },
   "file_extension": ".py",
   "mimetype": "text/x-python",
   "name": "python",
   "nbconvert_exporter": "python",
   "pygments_lexer": "ipython3",
   "version": "3.8.5-final"
  },
  "orig_nbformat": 2,
  "kernelspec": {
   "name": "python3",
   "display_name": "Python 3"
  }
 },
 "nbformat": 4,
 "nbformat_minor": 2,
 "cells": [
  {
   "source": [
    "# PYTHON ASSIGNMENT\n",
    "## NAME:SHUBHAM TAKANKHAR\n",
    "### ROLL NO:54 \n"
   ],
   "cell_type": "markdown",
   "metadata": {}
  },
  {
   "source": [
    "## Creating Calculator/ Quiz using basic python loops"
   ],
   "cell_type": "markdown",
   "metadata": {}
  },
  {
   "cell_type": "code",
   "execution_count": 7,
   "metadata": {},
   "outputs": [
    {
     "output_type": "stream",
     "name": "stdout",
     "text": [
      "ENTER Y to continue\n",
      " N to Exit\n",
      "enter value of first operand:\n",
      "enter value of second operand:\n",
      "enter operation to perform:\n",
      "+ for Addition\n",
      "- for Substraction\n",
      "* for Multiplication\n",
      "/ for Division\n",
      "20 * 10 = 200\n",
      "ENTER Y to continue\n",
      " N to Exit\n",
      "enter value of first operand:\n",
      "enter value of second operand:\n",
      "enter operation to perform:\n",
      "+ for Addition\n",
      "- for Substraction\n",
      "* for Multiplication\n",
      "/ for Division\n",
      "20 + 20 = 40\n",
      "ENTER Y to continue\n",
      " N to Exit\n",
      "enter value of first operand:\n"
     ]
    },
    {
     "output_type": "error",
     "ename": "ValueError",
     "evalue": "invalid literal for int() with base 10: ''",
     "traceback": [
      "\u001b[1;31m---------------------------------------------------------------------------\u001b[0m",
      "\u001b[1;31mValueError\u001b[0m                                Traceback (most recent call last)",
      "\u001b[1;32m<ipython-input-7-10d2da157a2e>\u001b[0m in \u001b[0;36m<module>\u001b[1;34m\u001b[0m\n\u001b[0;32m      4\u001b[0m \u001b[1;32mwhile\u001b[0m \u001b[0mchoice\u001b[0m \u001b[1;33m!=\u001b[0m \u001b[1;34m'N'\u001b[0m \u001b[1;32mor\u001b[0m \u001b[0mchoice\u001b[0m \u001b[1;33m!=\u001b[0m \u001b[1;34m'n'\u001b[0m\u001b[1;33m:\u001b[0m\u001b[1;33m\u001b[0m\u001b[1;33m\u001b[0m\u001b[0m\n\u001b[0;32m      5\u001b[0m     \u001b[0mprint\u001b[0m\u001b[1;33m(\u001b[0m\u001b[1;34m\"enter value of first operand:\"\u001b[0m\u001b[1;33m)\u001b[0m\u001b[1;33m\u001b[0m\u001b[1;33m\u001b[0m\u001b[0m\n\u001b[1;32m----> 6\u001b[1;33m     \u001b[0mx\u001b[0m\u001b[1;33m=\u001b[0m\u001b[0mint\u001b[0m\u001b[1;33m(\u001b[0m\u001b[0minput\u001b[0m\u001b[1;33m(\u001b[0m\u001b[1;33m)\u001b[0m\u001b[1;33m)\u001b[0m\u001b[1;33m\u001b[0m\u001b[1;33m\u001b[0m\u001b[0m\n\u001b[0m\u001b[0;32m      7\u001b[0m     \u001b[0mprint\u001b[0m\u001b[1;33m(\u001b[0m\u001b[1;34m\"enter value of second operand:\"\u001b[0m\u001b[1;33m)\u001b[0m\u001b[1;33m\u001b[0m\u001b[1;33m\u001b[0m\u001b[0m\n\u001b[0;32m      8\u001b[0m     \u001b[0my\u001b[0m\u001b[1;33m=\u001b[0m\u001b[0mint\u001b[0m\u001b[1;33m(\u001b[0m\u001b[0minput\u001b[0m\u001b[1;33m(\u001b[0m\u001b[1;33m)\u001b[0m\u001b[1;33m)\u001b[0m\u001b[1;33m\u001b[0m\u001b[1;33m\u001b[0m\u001b[0m\n",
      "\u001b[1;31mValueError\u001b[0m: invalid literal for int() with base 10: ''"
     ]
    }
   ],
   "source": [
    "print(\"ENTER Y to continue\\n N to Exit\")\n",
    "choice=input()\n",
    "\n",
    "while choice != 'N' or choice != 'n':\n",
    "    print(\"enter value of first operand:\")\n",
    "    x=int(input())\n",
    "    print(\"enter value of second operand:\")\n",
    "    y=int(input())\n",
    "    print(\"enter operation to perform:\")\n",
    "    print(\"+ for Addition\")\n",
    "    print(\"- for Substraction\")\n",
    "    print(\"* for Multiplication\")\n",
    "    print(\"/ for Division\")\n",
    "    operation=input()\n",
    "\n",
    "    if operation is '+':\n",
    "        print(\"{} + {} = {}\".format(x,y,x+y))\n",
    "    elif operation is '-':\n",
    "        print(\"{} - {} = {}\".format(x,y,x-y))\n",
    "    elif operation is '*':\n",
    "        print(\"{} * {} = {}\".format(x,y,x*y))\n",
    "    elif operation is '/':\n",
    "        print(\"{} / {} = {}\".format(x,y,x/y))\n",
    "    else:\n",
    "        print(\"Enter Valid Operator\") \n",
    "        \n",
    "    print(\"ENTER Y to continue\\n N to Exit\")   \n",
    "    choice=input()"
   ]
  },
  {
   "source": [
    "## Quiz using basic python loops"
   ],
   "cell_type": "markdown",
   "metadata": {}
  },
  {
   "cell_type": "code",
   "execution_count": 21,
   "metadata": {},
   "outputs": [
    {
     "output_type": "stream",
     "name": "stdout",
     "text": [
      "what is your name\n",
      "Correct Ans is shubham\n",
      "which class\n",
      "Correct Ans is symca\n",
      "ur roll-no\n",
      "Correct Ans is 54\n"
     ]
    }
   ],
   "source": [
    "dicts = {'what is your name':'shubham','which class':'symca','ur roll-no':'54'}  \n",
    "\n",
    "dict2=list(dicts)\n",
    "for i in range(len(dict2)):\n",
    "    print(dict2[i])\n",
    "    name=input()\n",
    "    if name.lower() == dicts[dict2[i]]:\n",
    "        print(\"Correct Answer\")\n",
    "    else:\n",
    "         print(\"Correct Ans is {}\".format(dicts[dict2[i]]))"
   ]
  },
  {
   "source": [
    "## Python Program for factorial of a number"
   ],
   "cell_type": "markdown",
   "metadata": {}
  },
  {
   "cell_type": "code",
   "execution_count": 4,
   "metadata": {},
   "outputs": [
    {
     "output_type": "stream",
     "name": "stdout",
     "text": [
      "120\n"
     ]
    }
   ],
   "source": [
    "num=int(input(\"Enter a Number:\")) #5\n",
    "\n",
    "def fact(n):\n",
    "    if n > 1:\n",
    "        return n * fact(n-1)\n",
    "    else:\n",
    "        return 1\n",
    "\n",
    "print(fact(num))"
   ]
  },
  {
   "cell_type": "code",
   "execution_count": null,
   "metadata": {},
   "outputs": [],
   "source": []
  }
 ]
}