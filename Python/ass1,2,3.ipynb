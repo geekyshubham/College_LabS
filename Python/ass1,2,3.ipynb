{
 "metadata": {
  "language_info": {
   "codemirror_mode": {
    "name": "ipython",
    "version": 3
   },
   "file_extension": ".py",
   "mimetype": "text/x-python",
   "name": "python",
   "nbconvert_exporter": "python",
   "pygments_lexer": "ipython3",
   "version": "3.8.5-final"
  },
  "orig_nbformat": 2,
  "kernelspec": {
   "name": "Python 3.8.5 32-bit",
   "display_name": "Python 3.8.5 32-bit",
   "metadata": {
    "interpreter": {
     "hash": "0db1c6882aebd70d08b8e99fbeb56982e7f0db886414c1d60e3a71076107aa49"
    }
   }
  }
 },
 "nbformat": 4,
 "nbformat_minor": 2,
 "cells": [
  {
   "cell_type": "code",
   "execution_count": 18,
   "metadata": {
    "tags": []
   },
   "outputs": [
    {
     "output_type": "stream",
     "name": "stdout",
     "text": "1904\n1908\n1912\n1916\n1920\n1924\n1928\n1932\n1936\n1940\n1944\n1948\n1952\n1956\n1960\n1964\n1968\n1972\n1976\n1980\n1984\n1988\n1992\n1996\n2000\n2004\n2008\n2012\n2016\n2020\n2024\n2028\n2032\n2036\n2040\n2044\n2048\n2052\n2056\n2060\n2064\n2068\n2072\n2076\n2080\n2084\n2088\n2092\n2096\n"
    }
   ],
   "source": [
    "#Write a Python program  that displaysall the leap years from1900 to 2101.\n",
    "#according to gregorian calender:-\n",
    "for i in range(1900,2101):\n",
    "    if str(i)[2:]=='00':\n",
    "        if int(str(i)[:2])%4==0:\n",
    "            print(i)\n",
    "            count+=1\n",
    "            continue\n",
    "    elif i%4==0:\n",
    "        print(i)\n",
    "        "
   ]
  },
  {
   "cell_type": "code",
   "execution_count": null,
   "metadata": {},
   "outputs": [],
   "source": []
  },
  {
   "cell_type": "code",
   "execution_count": 22,
   "metadata": {
    "tags": []
   },
   "outputs": [
    {
     "output_type": "stream",
     "name": "stdout",
     "text": "2.59\n"
    }
   ],
   "source": [
    "#Write a Python program  to sum the series 1+1/2+1/3------1/n\n",
    "sums=0\n",
    "n=int(input())\n",
    "for i in range(1,n+1):\n",
    "    sums+=1/i\n",
    "print(round(sums,2))"
   ]
  },
  {
   "cell_type": "code",
   "execution_count": 23,
   "metadata": {
    "tags": []
   },
   "outputs": [
    {
     "output_type": "stream",
     "name": "stdout",
     "text": "1 2 3 4 5\n1 2 3 4 5\n1 2 3 4 5\n1 2 3 4 5\n1 2 3 4 5\n"
    }
   ],
   "source": [
    "#.Write a Python program  to print following patterns\n",
    "for i in range(5):\n",
    "    print('1 2 3 4 5')"
   ]
  },
  {
   "cell_type": "code",
   "execution_count": 33,
   "metadata": {
    "tags": []
   },
   "outputs": [
    {
     "output_type": "stream",
     "name": "stdout",
     "text": "1 \n2 2 \n3 3 3 \n4 4 4 4 \n5 5 5 5 5 \n"
    }
   ],
   "source": [
    "for i in range(1,6):\n",
    "    for j in range(i):\n",
    "        print(i,end=' ')\n",
    "    print()"
   ]
  },
  {
   "cell_type": "code",
   "execution_count": 45,
   "metadata": {
    "tags": []
   },
   "outputs": [
    {
     "output_type": "stream",
     "name": "stdout",
     "text": "1 2 3 4 5 \n1 2 3 4 \n1 2 3 \n1 2 \n1 \n"
    }
   ],
   "source": [
    "for i in range(5,0,-1):\n",
    "    for j in range(1,i+1):\n",
    "        print(j,end=' ')\n",
    "    print()"
   ]
  },
  {
   "cell_type": "code",
   "execution_count": 64,
   "metadata": {
    "tags": []
   },
   "outputs": [
    {
     "output_type": "stream",
     "name": "stdout",
     "text": "\n0 \n1 2 \n3 4 5 \n6 7 8 9 \n\n\n\n\n\n"
    }
   ],
   "source": [
    "num=0\n",
    "for i in range(0,10):\n",
    "    for j in range(i):\n",
    "        if num < 10:\n",
    "            print(num,end=' ')\n",
    "            num+=1\n",
    "    print()"
   ]
  },
  {
   "cell_type": "code",
   "execution_count": 66,
   "metadata": {
    "tags": []
   },
   "outputs": [
    {
     "output_type": "stream",
     "name": "stdout",
     "text": "Very Good\n"
    }
   ],
   "source": [
    "#4.WAP that prompts user to enter character(O,A,B,C,F) then using if-else-elif-else construct display Outstanding, Very good, Good, Average and Fail respectively.\n",
    "\n",
    "grade=input()\n",
    "if grade in ['o','O']:\n",
    "    print(\"Outstanding\")\n",
    "elif grade in ['a','A']:\n",
    "    print(\"Very Good\")\n",
    "elif grade in ['b','B']:\n",
    "    print(\"Good\")\n",
    "elif grade in ['c','C']:\n",
    "    print(\"Average\")\n",
    "elif grade in ['f','F']:\n",
    "    print(\"Fail\")\n",
    "else:\n",
    "    print(\"Enter appropriate character\")"
   ]
  },
  {
   "cell_type": "code",
   "execution_count": 69,
   "metadata": {
    "tags": []
   },
   "outputs": [
    {
     "output_type": "stream",
     "name": "stdout",
     "text": "2⁰ = 1\n2¹ = 2\n2² = 4\n2³ = 8\n2⁴ = 16\n2⁵ = 32\n"
    }
   ],
   "source": [
    "#Write a Python programthat displays the following powers of 2, One per line.\n",
    "sup={\"0\": \"⁰\", \"1\": \"¹\", \"2\": \"²\", \"3\": \"³\", \"4\": \"⁴\", \"5\": \"⁵\", \"6\": \"⁶\",\n",
    "    \"7\": \"⁷\", \"8\": \"⁸\", \"9\": \"⁹\"}\n",
    "for i in range(6):\n",
    "    print(\"2{} = {}\".format(sup[str(i)],2**i))"
   ]
  },
  {
   "cell_type": "code",
   "execution_count": 1,
   "metadata": {},
   "outputs": [],
   "source": [
    "#6.Write a function is_prime() that returns 1 if the argument passed to it is prime otherwise it returns zero.\n",
    "\n",
    "def is_prime(n):\n",
    "  \n",
    "    for x in range(2, n-1):\n",
    "        if n % x == 0:\n",
    "            return 0\n",
    "\n",
    "    return 1"
   ]
  },
  {
   "cell_type": "code",
   "execution_count": 9,
   "metadata": {
    "tags": []
   },
   "outputs": [
    {
     "output_type": "stream",
     "name": "stdout",
     "text": "0\n"
    }
   ],
   "source": [
    "print(is_prime(9))"
   ]
  },
  {
   "cell_type": "code",
   "execution_count": 13,
   "metadata": {
    "tags": []
   },
   "outputs": [
    {
     "output_type": "stream",
     "name": "stdout",
     "text": "Prime Number \n"
    }
   ],
   "source": [
    "def check_prime(n):\n",
    "    flag = True\n",
    "    for x in range(2, n//2):\n",
    "        if n % x == 0:\n",
    "            flag = False\n",
    "\n",
    "    return flag\n",
    "\n",
    "if __name__ == \"__main__\":\n",
    "    n = int(input('Enter any integer number  : '))\n",
    "    result = check_prime(n)\n",
    "    print(\"Prime Number \" if (result) else '\"Not prime Number')"
   ]
  },
  {
   "cell_type": "code",
   "execution_count": 1,
   "metadata": {
    "tags": []
   },
   "outputs": [
    {
     "output_type": "error",
     "ename": "KeyboardInterrupt",
     "evalue": "",
     "traceback": [
      "\u001b[1;31m---------------------------------------------------------------------------\u001b[0m",
      "\u001b[1;31mKeyboardInterrupt\u001b[0m                         Traceback (most recent call last)",
      "\u001b[1;32m<ipython-input-1-4075e20b27e4>\u001b[0m in \u001b[0;36m<module>\u001b[1;34m\u001b[0m\n\u001b[0;32m      9\u001b[0m \u001b[1;32mwhile\u001b[0m \u001b[0mnewString\u001b[0m \u001b[1;33m!=\u001b[0m \u001b[0muserString\u001b[0m\u001b[1;33m:\u001b[0m\u001b[1;33m\u001b[0m\u001b[1;33m\u001b[0m\u001b[0m\n\u001b[0;32m     10\u001b[0m     \u001b[1;32mfor\u001b[0m \u001b[0mi\u001b[0m \u001b[1;32min\u001b[0m \u001b[0mrange\u001b[0m\u001b[1;33m(\u001b[0m\u001b[0mstrLength\u001b[0m\u001b[1;33m)\u001b[0m\u001b[1;33m:\u001b[0m\u001b[1;33m\u001b[0m\u001b[1;33m\u001b[0m\u001b[0m\n\u001b[1;32m---> 11\u001b[1;33m         \u001b[0mnewString\u001b[0m\u001b[1;33m+=\u001b[0m\u001b[0mrandom\u001b[0m\u001b[1;33m.\u001b[0m\u001b[0mchoice\u001b[0m\u001b[1;33m(\u001b[0m\u001b[0mallCharacters\u001b[0m\u001b[1;33m)\u001b[0m\u001b[1;33m\u001b[0m\u001b[1;33m\u001b[0m\u001b[0m\n\u001b[0m\u001b[0;32m     12\u001b[0m \u001b[0mprint\u001b[0m\u001b[1;33m(\u001b[0m\u001b[0mnewString\u001b[0m\u001b[1;33m)\u001b[0m\u001b[1;33m\u001b[0m\u001b[1;33m\u001b[0m\u001b[0m\n\u001b[0;32m     13\u001b[0m \u001b[1;33m\u001b[0m\u001b[0m\n",
      "\u001b[1;31mKeyboardInterrupt\u001b[0m: "
     ]
    }
   ],
   "source": [
    "#1 Generate random string until the given string is generated.\n",
    "import string\n",
    "import random\n",
    "\n",
    "userString=input()\n",
    "allCharacters=string.ascii_lowercase + string.ascii_uppercase \n",
    "newString=''\n",
    "strLength=len(userString)\n",
    "\n",
    "while newString != userString:  \n",
    "    for i in range(strLength):\n",
    "        newString+=random.choice(allCharacters)\n",
    "print(newString)\n",
    "  "
   ]
  },
  {
   "cell_type": "code",
   "execution_count": 3,
   "metadata": {
    "tags": []
   },
   "outputs": [
    {
     "output_type": "stream",
     "name": "stdout",
     "text": "a is:4\nb is:2\n"
    }
   ],
   "source": [
    "a=int(input())\n",
    "b=int(input())\n",
    "\n",
    "a,b=b,a\n",
    "print(\"a is:{}\\nb is:{}\".format(a,b))"
   ]
  },
  {
   "cell_type": "code",
   "execution_count": 7,
   "metadata": {
    "tags": []
   },
   "outputs": [
    {
     "output_type": "stream",
     "name": "stdout",
     "text": "3.0\n"
    }
   ],
   "source": [
    "#WAP using function to return average of it’s it’s arguments.\n",
    "\n",
    "def average(*n):\n",
    "    length=len(n)\n",
    "    sums=0\n",
    "    for i in n:\n",
    "        sums+=i\n",
    "    avg=sums/length\n",
    "    return avg\n",
    "    \n",
    "print(average(2,4))"
   ]
  },
  {
   "cell_type": "code",
   "execution_count": 8,
   "metadata": {
    "tags": []
   },
   "outputs": [
    {
     "output_type": "stream",
     "name": "stdout",
     "text": "NOT EQUAL\n"
    }
   ],
   "source": [
    "def eqaulityCheck(a,b):\n",
    "    if a==b:\n",
    "        print('EQUAL')\n",
    "    else:\n",
    "        print('NOT EQUAL')\n",
    "eqaulityCheck(2,4)"
   ]
  },
  {
   "cell_type": "code",
   "execution_count": 9,
   "metadata": {
    "tags": []
   },
   "outputs": [
    {
     "output_type": "stream",
     "name": "stdout",
     "text": "Interest applicable is:12\n"
    }
   ],
   "source": [
    "#WAP using function to calculate the interest of a customer. Suppose if the customer is senior citizen he is offered 12% interest and for all others the interest rate is 10 pcpa.\n",
    "\n",
    "def interest(age):\n",
    "    if age > 50:\n",
    "        return 12\n",
    "    else:\n",
    "        return 10\n",
    "\n",
    "customerAge=int(input())\n",
    "\n",
    "print(\"Interest applicable is:{}\".format(interest(customerAge)))\n",
    "\n"
   ]
  },
  {
   "cell_type": "code",
   "execution_count": 13,
   "metadata": {},
   "outputs": [
    {
     "output_type": "execute_result",
     "data": {
      "text/plain": "4"
     },
     "metadata": {},
     "execution_count": 13
    }
   ],
   "source": [
    "#WAP using function to find GCD of two numbers.\n",
    "def gcd(a,b): \n",
    "    if(b==0): \n",
    "        return a \n",
    "    else: \n",
    "        return gcd(b,a%b) \n",
    "gcd(12,8)"
   ]
  },
  {
   "cell_type": "code",
   "execution_count": 19,
   "metadata": {
    "tags": []
   },
   "outputs": [
    {
     "output_type": "stream",
     "name": "stdout",
     "text": "120\n"
    }
   ],
   "source": [
    "#WAP  using function to find factorial of a number\n",
    "\n",
    "num =int(input())\n",
    "fact=1\n",
    "for i in range(num,0,-1):\n",
    "    fact*=i\n",
    "print(fact)"
   ]
  },
  {
   "cell_type": "code",
   "execution_count": 27,
   "metadata": {
    "tags": []
   },
   "outputs": [
    {
     "output_type": "stream",
     "name": "stdout",
     "text": "0 1 1 2 3 5 8 13 "
    }
   ],
   "source": [
    "#WAP using function to find Fibonacci series using recursion and without using recursion.\n",
    "num=int(input())\n",
    "def fibonacci(num):\n",
    "    num1=0\n",
    "    num2=1\n",
    "    series=0\n",
    "    for i in range(0,num):\n",
    "        print(series,end=' ')\n",
    "        num1=num2\n",
    "        num2=series\n",
    "        series=num1+num2\n",
    "\n",
    "fibonacci(num)\n",
    "\n",
    "def fibonacci(number):\n",
    "    if number == 0:\n",
    "        return 0\n",
    "    elif number == 1:\n",
    "        return 1\n",
    "    else:\n",
    "        return fibonacci(number - 1) + fibonacci(number - 2)"
   ]
  },
  {
   "cell_type": "code",
   "execution_count": 29,
   "metadata": {
    "tags": []
   },
   "outputs": [
    {
     "output_type": "stream",
     "name": "stdout",
     "text": "t\n"
    }
   ],
   "source": [
    "#Find the second last element in a list.\n",
    "test=['q','w','e','r','t','y']\n",
    "print(test[-2])"
   ]
  },
  {
   "cell_type": "code",
   "execution_count": 33,
   "metadata": {
    "tags": []
   },
   "outputs": [
    {
     "output_type": "stream",
     "name": "stdout",
     "text": "('y', 't', 'r', 'e', 'w', 'q')\n"
    }
   ],
   "source": [
    "#Reverse each tuple in a list of tuples.\n",
    "\n",
    "test=('q','w','e','r','t','y')\n",
    "reverse=test[::-1]\n",
    "print(reverse)\n"
   ]
  },
  {
   "cell_type": "code",
   "execution_count": 34,
   "metadata": {
    "tags": []
   },
   "outputs": [
    {
     "output_type": "stream",
     "name": "stdout",
     "text": "Cannot divide by zero\n"
    }
   ],
   "source": [
    "#Develop a program to understand the working of exception handling.\n",
    "\n",
    "try:\n",
    "    result=2/0\n",
    "except ZeroDivisionError:\n",
    "    print(\"Cannot divide by zero\")"
   ]
  },
  {
   "cell_type": "code",
   "execution_count": 35,
   "metadata": {
    "tags": []
   },
   "outputs": [
    {
     "output_type": "stream",
     "name": "stdout",
     "text": "You're not eligible for voting. Years Left:2\n"
    }
   ],
   "source": [
    "#Display whether a person is eligible for voting. If he is not eligible, display how many years are left to be eligible.\n",
    "\n",
    "age=int(input())\n",
    "if age < 18:\n",
    "    print(\"You're not eligible for voting. Years Left:{}\".format(18-age))\n",
    "else:\n",
    "    print(\"Congratulations ! You're eligible for voting\")"
   ]
  },
  {
   "cell_type": "code",
   "execution_count": 48,
   "metadata": {
    "tags": []
   },
   "outputs": [
    {
     "output_type": "stream",
     "name": "stdout",
     "text": "8\n"
    }
   ],
   "source": [
    "#WAP to find the median of list of numbers.\n",
    "\n",
    "test=[8,1,6,7,3,9,12,54]\n",
    "test.sort()\n",
    "median=len(test)//2\n",
    "print(test[median])\n"
   ]
  },
  {
   "cell_type": "code",
   "execution_count": 52,
   "metadata": {
    "tags": []
   },
   "outputs": [
    {
     "output_type": "stream",
     "name": "stdout",
     "text": "[0, 1, 1, 2, 3, 5, 8, 13, 21, 34, 55, 89, 144, 233, 377, 610, 987, 1597, 2584, 4181, 6765, 10946, 17711, 28657, 46368, 75025, 121393, 196418, 317811, 514229, 832040, 1346269, 2178309, 3524578, 5702887, 9227465, 14930352, 24157817, 39088169, 63245986, 102334155, 165580141, 267914296, 433494437, 701408733, 1134903170, 1836311903, 2971215073, 4807526976, 7778742049, 12586269025, 20365011074, 32951280099, 53316291173, 86267571272, 139583862445, 225851433717, 365435296162, 591286729879, 956722026041, 1548008755920, 2504730781961, 4052739537881, 6557470319842, 10610209857723, 17167680177565, 27777890035288, 44945570212853, 72723460248141, 117669030460994, 190392490709135, 308061521170129, 498454011879264, 806515533049393, 1304969544928657, 2111485077978050, 3416454622906707, 5527939700884757, 8944394323791464, 14472334024676221, 23416728348467685, 37889062373143906, 61305790721611591, 99194853094755497, 160500643816367088, 259695496911122585, 420196140727489673, 679891637638612258, 1100087778366101931, 1779979416004714189, 2880067194370816120, 4660046610375530309, 7540113804746346429, 12200160415121876738, 19740274219868223167, 31940434634990099905, 51680708854858323072, 83621143489848422977, 135301852344706746049, 218922995834555169026, 354224848179261915075, 573147844013817084101, 927372692193078999176, 1500520536206896083277, 2427893228399975082453, 3928413764606871165730, 6356306993006846248183, 10284720757613717413913, 16641027750620563662096, 26925748508234281076009, 43566776258854844738105, 70492524767089125814114, 114059301025943970552219, 184551825793033096366333, 298611126818977066918552, 483162952612010163284885, 781774079430987230203437, 1264937032042997393488322, 2046711111473984623691759, 3311648143516982017180081, 5358359254990966640871840, 8670007398507948658051921, 14028366653498915298923761, 22698374052006863956975682, 36726740705505779255899443, 59425114757512643212875125, 96151855463018422468774568, 155576970220531065681649693, 251728825683549488150424261, 407305795904080553832073954, 659034621587630041982498215, 1066340417491710595814572169, 1725375039079340637797070384, 2791715456571051233611642553, 4517090495650391871408712937, 7308805952221443105020355490, 11825896447871834976429068427, 19134702400093278081449423917, 30960598847965113057878492344, 50095301248058391139327916261, 81055900096023504197206408605, 131151201344081895336534324866, 212207101440105399533740733471, 343358302784187294870275058337, 555565404224292694404015791808, 898923707008479989274290850145, 1454489111232772683678306641953, 2353412818241252672952597492098, 3807901929474025356630904134051, 6161314747715278029583501626149, 9969216677189303386214405760200, 16130531424904581415797907386349, 26099748102093884802012313146549, 42230279526998466217810220532898, 68330027629092351019822533679447, 110560307156090817237632754212345, 178890334785183168257455287891792, 289450641941273985495088042104137, 468340976726457153752543329995929, 757791618667731139247631372100066, 1226132595394188293000174702095995, 1983924214061919432247806074196061, 3210056809456107725247980776292056, 5193981023518027157495786850488117, 8404037832974134882743767626780173, 13598018856492162040239554477268290, 22002056689466296922983322104048463, 35600075545958458963222876581316753, 57602132235424755886206198685365216, 93202207781383214849429075266681969, 150804340016807970735635273952047185, 244006547798191185585064349218729154, 394810887814999156320699623170776339, 638817435613190341905763972389505493, 1033628323428189498226463595560281832, 1672445759041379840132227567949787325, 2706074082469569338358691163510069157, 4378519841510949178490918731459856482, 7084593923980518516849609894969925639, 11463113765491467695340528626429782121, 18547707689471986212190138521399707760, 30010821454963453907530667147829489881, 48558529144435440119720805669229197641, 78569350599398894027251472817058687522, 127127879743834334146972278486287885163, 205697230343233228174223751303346572685, 332825110087067562321196029789634457848, 538522340430300790495419781092981030533, 871347450517368352816615810882615488381, 1409869790947669143312035591975596518914, 2281217241465037496128651402858212007295, 3691087032412706639440686994833808526209, 5972304273877744135569338397692020533504, 9663391306290450775010025392525829059713, 15635695580168194910579363790217849593217, 25299086886458645685589389182743678652930, 40934782466626840596168752972961528246147, 66233869353085486281758142155705206899077, 107168651819712326877926895128666735145224, 173402521172797813159685037284371942044301]\n"
    }
   ],
   "source": [
    "fibo=[]\n",
    "for i in range(200):\n",
    "    if i == 0:\n",
    "        fibo.append(0)\n",
    "    elif i == 1:\n",
    "        fibo.append(1)\n",
    "    else:\n",
    "        num1=fibo[-1]\n",
    "        num2=fibo[-2]\n",
    "        fibo.append(num1+num2)\n",
    "print(fibo)"
   ]
  },
  {
   "cell_type": "code",
   "execution_count": 1,
   "metadata": {
    "tags": []
   },
   "outputs": [
    {
     "output_type": "stream",
     "name": "stdout",
     "text": "[[3, 13, 9], [8, 6, 15], [11, 6, 11]]\n"
    }
   ],
   "source": [
    "X=[[2,5,4],[1,3,9],[7,6,2]]\n",
    "Y=[[1,8,5],[7,3,6],[4,0,9]]\n",
    "Z=[[0,0,0],[0,0,0],[0,0,0]]\n",
    "for i in range(len(X)):\n",
    "   for j in range(len(X[0])):\n",
    "       Z[i][j] = X[i][j] + Y[i][j]\n",
    "print(Z)"
   ]
  },
  {
   "cell_type": "code",
   "execution_count": 6,
   "metadata": {
    "tags": []
   },
   "outputs": [
    {
     "output_type": "stream",
     "name": "stdout",
     "text": "upper:5\nlower:5\nnumeric:5\n"
    }
   ],
   "source": [
    "# WAP to read a character until a * is encountered. Also count the number of upper case, lower case and numbers entered by the user\n",
    "lower,upper,num=0,0,0\n",
    "inputs=''\n",
    "while '*' not in inputs:\n",
    "    inputs=input(\"Enter Anything:\")\n",
    "    for i in inputs:\n",
    "        if i.isupper():\n",
    "            upper+=1\n",
    "        elif i.islower():\n",
    "            lower+=1\n",
    "        elif i.isnumeric():\n",
    "            num+=1\n",
    "print(\"upper:{}\\nlower:{}\\nnumeric:{}\".format(upper,lower,num))"
   ]
  },
  {
   "cell_type": "code",
   "execution_count": 28,
   "metadata": {
    "tags": []
   },
   "outputs": [
    {
     "output_type": "stream",
     "name": "stdout",
     "text": "         1\n       1 2\n     1 2 3\n   1 2 3 4\n 1 2 3 4 5\n"
    }
   ],
   "source": [
    "# WAP to print the following pattern\n",
    "nums=[]\n",
    "for i in range(1,6):\n",
    "    nums.append(i)\n",
    "    print((\"  \"*(5-i)),*nums)\n",
    "    "
   ]
  },
  {
   "cell_type": "code",
   "execution_count": 29,
   "metadata": {
    "tags": []
   },
   "outputs": [
    {
     "output_type": "stream",
     "name": "stdout",
     "text": "SUM OF CUBES FROM 1 TO 10 IS : 3025\n"
    }
   ],
   "source": [
    "# WAP  to calculate sum of cubes of numbers from 1-n.\n",
    "n=int(input())\n",
    "sums=0\n",
    "for i in range(1,n+1):\n",
    "    sums+= i*i*i\n",
    "print(\"SUM OF CUBES FROM 1 TO {} IS : {}\".format(n,sums))\n"
   ]
  },
  {
   "cell_type": "code",
   "execution_count": 43,
   "metadata": {
    "tags": []
   },
   "outputs": [
    {
     "output_type": "stream",
     "name": "stdout",
     "text": "PRIME COUNT:4\nCOMPOSITE COUNT:6\n"
    }
   ],
   "source": [
    "# WAP that prompts the user to enter the numbers. The process will repeat until user enters -1,Finally the program prints the count of prime numbers and composite numbers.\n",
    "def isPrime(n):\n",
    "    if n > 3:\n",
    "        if n%2==0 or n%3==0:\n",
    "            return 0\n",
    "    return 1\n",
    "prime,composite,inputs=0,0,0\n",
    "while inputs != -1:\n",
    "    inputs=int(input())\n",
    "    if inputs==-1:\n",
    "        break\n",
    "    elif isPrime(inputs):\n",
    "        prime+=1\n",
    "    else:\n",
    "        composite+=1\n",
    "print(\"PRIME COUNT:{}\\nCOMPOSITE COUNT:{}\".format(prime,composite))"
   ]
  },
  {
   "cell_type": "code",
   "execution_count": null,
   "metadata": {},
   "outputs": [],
   "source": []
  }
 ]
}