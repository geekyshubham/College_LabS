{
  "nbformat": 4,
  "nbformat_minor": 0,
  "metadata": {
    "colab": {
      "name": "pylab.ipynb",
      "provenance": []
    },
    "kernelspec": {
      "name": "python3",
      "display_name": "Python 3"
    }
  },
  "cells": [
    {
      "cell_type": "markdown",
      "metadata": {
        "id": "kwja2a-T_blS",
        "colab_type": "text"
      },
      "source": [
        "\n",
        "---\n",
        "\n",
        "\n",
        "\n",
        "\n",
        "#PYTHON LAB ASSIGNMENTS\n",
        "\n",
        "\n",
        "\n",
        "---\n",
        "\n",
        "\n",
        "### NAME: SHUBHAM TAKANKHAR\n",
        "###ROLL NO: 54\n",
        "###MCA SY\n",
        "\n",
        "\n"
      ]
    },
    {
      "cell_type": "markdown",
      "metadata": {
        "id": "B_s0wEyTtf8P",
        "colab_type": "text"
      },
      "source": [
        "Write a program that asks the user to enter a length in centimeters. If the user enters a negative length, the program should tell the user that the entry is invalid. Otherwise, the program should convert the length to inches and print out the result. There are 2.54 centimeters in an inch.( Use ‘if-else’ statement. )"
      ]
    },
    {
      "cell_type": "code",
      "metadata": {
        "id": "7ujlkCkwAOVY",
        "colab_type": "code",
        "colab": {
          "base_uri": "https://localhost:8080/",
          "height": 52
        },
        "outputId": "b7902a24-4e7b-4f94-f8b1-2fd05a0e96fc"
      },
      "source": [
        "length = int(input(\"Enter length in CM:\"))\n",
        "if length>0:\n",
        "  print(\"{:.2f} inch\".format(length/2.54))\n",
        "else:\n",
        "  print(\"Enter correct value\")"
      ],
      "execution_count": null,
      "outputs": [
        {
          "output_type": "stream",
          "text": [
            "Enter length in CM:6\n",
            "2.36 inch\n"
          ],
          "name": "stdout"
        }
      ]
    },
    {
      "cell_type": "markdown",
      "metadata": {
        "id": "yIO9ap3wuEWs",
        "colab_type": "text"
      },
      "source": [
        "Write a program that asks the user for two numbers and prints ‘Numbers are Close’ if the numbers are within 0.001 of each other and ‘Numbers are not close’ otherwise."
      ]
    },
    {
      "cell_type": "code",
      "metadata": {
        "id": "CYCgbJTEMhgb",
        "colab_type": "code",
        "colab": {
          "base_uri": "https://localhost:8080/",
          "height": 69
        },
        "outputId": "ba661a6b-2d8f-4395-c3ef-768294d3af7b"
      },
      "source": [
        "num1=float(input(\"num1:\"))\n",
        "num2=float(input(\"num2:\"))\n",
        "\n",
        "diff=num1-num2\n",
        "\n",
        "if diff<0.001:\n",
        "  print(\"Close\")\n",
        "else:\n",
        "  print(\"Not Close\")\n"
      ],
      "execution_count": null,
      "outputs": [
        {
          "output_type": "stream",
          "text": [
            "num1:2\n",
            "num2:2.001\n",
            "Close\n"
          ],
          "name": "stdout"
        }
      ]
    },
    {
      "cell_type": "markdown",
      "metadata": {
        "id": "1Q0g9QfXuP08",
        "colab_type": "text"
      },
      "source": [
        "Given three integers, determine how many of them are equal to each other. The program must print one of these numbers: 3 (if all are the same), 2 (if two of them are equal to each other and the third is different) or 0 (if all numbers are different)"
      ]
    },
    {
      "cell_type": "code",
      "metadata": {
        "id": "b7qQRLL3NWdF",
        "colab_type": "code",
        "colab": {
          "base_uri": "https://localhost:8080/",
          "height": 104
        },
        "outputId": "c54ad3ea-15c0-4300-daf7-d503218872d2"
      },
      "source": [
        "num1=int(input(\"num1:\"))\n",
        "num2=int(input(\"num2:\"))\n",
        "num3=int(input(\"num3:\"))\n",
        "\n",
        "if num1==num2==num3:\n",
        "  print(\"3\")\n",
        "elif num1==num2 or num3 == num2 or num3==num1:\n",
        "  print(\"2\")\n",
        "else:\n",
        "  print(\"1\")\n",
        "print(\" INTEGERS ARE EQUAL\")"
      ],
      "execution_count": null,
      "outputs": [
        {
          "output_type": "stream",
          "text": [
            "num1:1\n",
            "num2:2\n",
            "num3:1\n",
            "2\n",
            " INTEGERS ARE EQUAL\n"
          ],
          "name": "stdout"
        }
      ]
    },
    {
      "cell_type": "markdown",
      "metadata": {
        "id": "HQzmJpelugkf",
        "colab_type": "text"
      },
      "source": [
        "Write a program to print factorial of a  number using while loop"
      ]
    },
    {
      "cell_type": "code",
      "metadata": {
        "id": "XO6bEoqnNft6",
        "colab_type": "code",
        "colab": {
          "base_uri": "https://localhost:8080/",
          "height": 52
        },
        "outputId": "6db24070-bd03-4a45-ebce-495c3bf51f5a"
      },
      "source": [
        "#FACTORIAL\n",
        "num = int(input())\n",
        "i=1\n",
        "fact=1\n",
        "while i<=num:\n",
        "  fact*=i\n",
        "  i+=1\n",
        "print(fact)\n"
      ],
      "execution_count": null,
      "outputs": [
        {
          "output_type": "stream",
          "text": [
            "6\n",
            "720\n"
          ],
          "name": "stdout"
        }
      ]
    },
    {
      "cell_type": "markdown",
      "metadata": {
        "id": "llYiQpOOusrD",
        "colab_type": "text"
      },
      "source": [
        "WAP to find the sum of the digit of a given number.(while loop)"
      ]
    },
    {
      "cell_type": "code",
      "metadata": {
        "id": "yoIjt9PMp-7k",
        "colab_type": "code",
        "colab": {
          "base_uri": "https://localhost:8080/",
          "height": 52
        },
        "outputId": "1f78a455-a402-4a6b-fdcd-44dad8b19a9d"
      },
      "source": [
        "#SUM_OF_DIFITS\n",
        "num = input()\n",
        "\n",
        "i=0\n",
        "sums=0\n",
        "\n",
        "while i < len(num):\n",
        "  sums += int(num[i])\n",
        "  i+=1\n",
        "\n",
        "print(sums)\n"
      ],
      "execution_count": null,
      "outputs": [
        {
          "output_type": "stream",
          "text": [
            "124\n",
            "7\n"
          ],
          "name": "stdout"
        }
      ]
    },
    {
      "cell_type": "markdown",
      "metadata": {
        "id": "NXcqltrtuy5Q",
        "colab_type": "text"
      },
      "source": [
        "WAP for a table of 5 using for loop"
      ]
    },
    {
      "cell_type": "code",
      "metadata": {
        "id": "sWI0SmpD1jn8",
        "colab_type": "code",
        "colab": {
          "base_uri": "https://localhost:8080/",
          "height": 191
        },
        "outputId": "f0f35b59-8d21-45f6-fff0-b9ce3bcfe4cd"
      },
      "source": [
        "\n",
        "for i in range(1,11):\n",
        "  print(\"5 x {} = {} \".format(i,5*i))"
      ],
      "execution_count": null,
      "outputs": [
        {
          "output_type": "stream",
          "text": [
            "5 x 1 = 5 \n",
            "5 x 2 = 10 \n",
            "5 x 3 = 15 \n",
            "5 x 4 = 20 \n",
            "5 x 5 = 25 \n",
            "5 x 6 = 30 \n",
            "5 x 7 = 35 \n",
            "5 x 8 = 40 \n",
            "5 x 9 = 45 \n",
            "5 x 10 = 50 \n"
          ],
          "name": "stdout"
        }
      ]
    },
    {
      "cell_type": "markdown",
      "metadata": {
        "id": "pSnx3uO7vNz_",
        "colab_type": "text"
      },
      "source": [
        "WAP to print even number between 20 to 40 using for loop"
      ]
    },
    {
      "cell_type": "code",
      "metadata": {
        "id": "KYd8LOdtvNQg",
        "colab_type": "code",
        "colab": {
          "base_uri": "https://localhost:8080/",
          "height": 208
        },
        "outputId": "dbd9ed2d-834c-4d65-ef05-902f49253b72"
      },
      "source": [
        "for i in range(20,41,2):\n",
        "    print(i)"
      ],
      "execution_count": null,
      "outputs": [
        {
          "output_type": "stream",
          "text": [
            "20\n",
            "22\n",
            "24\n",
            "26\n",
            "28\n",
            "30\n",
            "32\n",
            "34\n",
            "36\n",
            "38\n",
            "40\n"
          ],
          "name": "stdout"
        }
      ]
    },
    {
      "cell_type": "markdown",
      "metadata": {
        "id": "XkF1mVUlw_6h",
        "colab_type": "text"
      },
      "source": [
        "WAP to print pyramid like pattern using for loop"
      ]
    },
    {
      "cell_type": "code",
      "metadata": {
        "id": "vMpSslZcvUpC",
        "colab_type": "code",
        "colab": {
          "base_uri": "https://localhost:8080/",
          "height": 104
        },
        "outputId": "11a4adb3-9763-44ab-9215-40ff4570e090"
      },
      "source": [
        "for i in range(1,6):\n",
        "  print(\" \"*(i-6)+\"*\"*(i))\n"
      ],
      "execution_count": null,
      "outputs": [
        {
          "output_type": "stream",
          "text": [
            "*\n",
            "**\n",
            "***\n",
            "****\n",
            "*****\n"
          ],
          "name": "stdout"
        }
      ]
    },
    {
      "cell_type": "markdown",
      "metadata": {
        "id": "k3QJDXPy9FZw",
        "colab_type": "text"
      },
      "source": [
        "WAP to print capital letters from A to Z using for loop"
      ]
    },
    {
      "cell_type": "code",
      "metadata": {
        "id": "52NwPkBE9Jg5",
        "colab_type": "code",
        "colab": {
          "base_uri": "https://localhost:8080/",
          "height": 468
        },
        "outputId": "7cf896c5-34a5-4c38-99dd-266cc6f6afbc"
      },
      "source": [
        "for i in range(65,91):\n",
        "  ch=chr(i)\n",
        "  print(ch)"
      ],
      "execution_count": null,
      "outputs": [
        {
          "output_type": "stream",
          "text": [
            "A\n",
            "B\n",
            "C\n",
            "D\n",
            "E\n",
            "F\n",
            "G\n",
            "H\n",
            "I\n",
            "J\n",
            "K\n",
            "L\n",
            "M\n",
            "N\n",
            "O\n",
            "P\n",
            "Q\n",
            "R\n",
            "S\n",
            "T\n",
            "U\n",
            "V\n",
            "W\n",
            "X\n",
            "Y\n",
            "Z\n"
          ],
          "name": "stdout"
        }
      ]
    },
    {
      "cell_type": "markdown",
      "metadata": {
        "id": "3mjSW9pZ-Tw6",
        "colab_type": "text"
      },
      "source": [
        "WAP using break statement to print first three letters in “string”"
      ]
    },
    {
      "cell_type": "code",
      "metadata": {
        "id": "3it2AN_S-W_6",
        "colab_type": "code",
        "colab": {
          "base_uri": "https://localhost:8080/",
          "height": 69
        },
        "outputId": "e86171ee-c34a-4c3f-cb2c-d2a2cda04a45"
      },
      "source": [
        "for i in \"string\":\n",
        "  if i=='i':\n",
        "    break\n",
        "  print(i)"
      ],
      "execution_count": null,
      "outputs": [
        {
          "output_type": "stream",
          "text": [
            "s\n",
            "t\n",
            "r\n"
          ],
          "name": "stdout"
        }
      ]
    }
  ]
}