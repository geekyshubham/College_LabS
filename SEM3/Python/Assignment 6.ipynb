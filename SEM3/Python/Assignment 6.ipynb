{
 "metadata": {
  "language_info": {
   "codemirror_mode": {
    "name": "ipython",
    "version": 3
   },
   "file_extension": ".py",
   "mimetype": "text/x-python",
   "name": "python",
   "nbconvert_exporter": "python",
   "pygments_lexer": "ipython3",
   "version": "3.8.5-final"
  },
  "orig_nbformat": 2,
  "kernelspec": {
   "name": "Python 3.8.5 32-bit",
   "display_name": "Python 3.8.5 32-bit",
   "metadata": {
    "interpreter": {
     "hash": "0db1c6882aebd70d08b8e99fbeb56982e7f0db886414c1d60e3a71076107aa49"
    }
   }
  }
 },
 "nbformat": 4,
 "nbformat_minor": 2,
 "cells": [
  {
   "cell_type": "code",
   "execution_count": null,
   "metadata": {},
   "outputs": [],
   "source": [
    "\"\"\"\n",
    "NAME:SHUBHAM TAKNAKHAR\n",
    "CLASS:MCA SY\n",
    "ROLL NO:54\n",
    "\"\"\"\n"
   ]
  },
  {
   "cell_type": "code",
   "execution_count": 6,
   "metadata": {
    "tags": []
   },
   "outputs": [
    {
     "output_type": "stream",
     "name": "stdout",
     "text": "phr\n"
    }
   ],
   "source": [
    "#1. Accept a string from user and print the same string after removing the vowels in the string.\n",
    "\n",
    "vowels=['a','e','i','o','u','A','E','I','O','U']\n",
    "\n",
    "string=input() #euphoria\n",
    "characters=[]\n",
    "for i in string:\n",
    "    if i not in vowels:\n",
    "        characters.append(i)\n",
    "newString=''.join(characters)\n",
    "print(newString)\n"
   ]
  },
  {
   "cell_type": "code",
   "execution_count": 7,
   "metadata": {},
   "outputs": [
    {
     "output_type": "execute_result",
     "data": {
      "text/plain": "'tset'"
     },
     "metadata": {},
     "execution_count": 7
    }
   ],
   "source": [
    "#2.WAP to reverse a string.\n",
    "\n",
    "string=input() #test\n",
    "\n",
    "string[::-1]"
   ]
  },
  {
   "cell_type": "code",
   "execution_count": 9,
   "metadata": {
    "tags": []
   },
   "outputs": [
    {
     "output_type": "stream",
     "name": "stdout",
     "text": "p is present at 3 index position in elephant\n"
    }
   ],
   "source": [
    "#3.WAP that finds whether a given character is present in a string or not. If it is present print the index at which it is present.\n",
    "strings=input(\"Enter String:\") #elephant\n",
    "char = input(\"Enter Character:\") #p\n",
    "\n",
    "if char in strings:\n",
    "    print(\"{} is present at {} index position in {}\".format(char,strings.find(char),strings))"
   ]
  },
  {
   "cell_type": "code",
   "execution_count": 10,
   "metadata": {
    "tags": []
   },
   "outputs": [
    {
     "output_type": "stream",
     "name": "stdout",
     "text": "no. of time e occurs is:2\n"
    }
   ],
   "source": [
    "#4.WAP that counts the occurrences of a character in a string.\n",
    "\n",
    "strings=input(\"Enter String:\") #elephant\n",
    "char = input(\"Enter Character:\") #e\n",
    "\n",
    "print(\"no. of time {} occurs is:{}\".format(char,strings.count(char)))"
   ]
  },
  {
   "cell_type": "code",
   "execution_count": 12,
   "metadata": {
    "tags": []
   },
   "outputs": [
    {
     "output_type": "stream",
     "name": "stdout",
     "text": "V.A.Godbole\n"
    }
   ],
   "source": [
    "#5.WAP to read a name Vidya Anil Godbole and display it in an abbreviated form like V.A.Godbole\n",
    "\n",
    "name=\"Vidya Anil Godbole\"\n",
    "\n",
    "abbName=name.split(' ')[0][0]+'.'+name.split(' ')[1][0]+'.'+name.split(' ')[2]\n",
    "\n",
    "print(abbName)"
   ]
  },
  {
   "cell_type": "code",
   "execution_count": 29,
   "metadata": {
    "tags": []
   },
   "outputs": [
    {
     "output_type": "stream",
     "name": "stdout",
     "text": "abc\nabc\na\n"
    }
   ],
   "source": [
    "#6.Write a function to get a string made of its first three characters of a specified string. If the length of the string is less than three, then return the original string.\n",
    "\n",
    "def first_three(str):\n",
    "\treturn str[:3] if len(str) > 3 else str\n",
    "\n",
    "print(first_three('abc'))\n",
    "print(first_three('abcde'))\n",
    "print(first_three('a'))"
   ]
  },
  {
   "cell_type": "code",
   "execution_count": 27,
   "metadata": {
    "tags": []
   },
   "outputs": [
    {
     "output_type": "stream",
     "name": "stdout",
     "text": "elephant || tnahpele"
    }
   ],
   "source": [
    "#7.WAP to create a mirror of the given string\n",
    "\n",
    "string=input() #elephant\n",
    "print(string+' || ',end='')\n",
    "for i in range(len(string)-1,-1,-1):\n",
    "    print(string[i],end='')\n"
   ]
  },
  {
   "cell_type": "code",
   "execution_count": 30,
   "metadata": {
    "tags": []
   },
   "outputs": [
    {
     "output_type": "stream",
     "name": "stdout",
     "text": "Prof.Godbole\n"
    }
   ],
   "source": [
    "#8.WAP to add prefix text to all the lines.(eg. Prof. Godbole    Prof. Sawant    Prof. Bailke    Prof. Joshi  Prof . Kulkarni)\n",
    "\n",
    "text=input() #Godbole\n",
    "\n",
    "lines=text.split('\\n')\n",
    "\n",
    "for i in range(len(lines)):\n",
    "    lines[i]=\"Prof.\"+lines[i]\n",
    "\n",
    "print(\" \".join(lines))\n",
    " "
   ]
  }
 ]
}