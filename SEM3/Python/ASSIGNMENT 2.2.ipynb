{
 "metadata": {
  "language_info": {
   "codemirror_mode": {
    "name": "ipython",
    "version": 3
   },
   "file_extension": ".py",
   "mimetype": "text/x-python",
   "name": "python",
   "nbconvert_exporter": "python",
   "pygments_lexer": "ipython3",
   "version": "3.8.5-final"
  },
  "orig_nbformat": 2,
  "kernelspec": {
   "name": "python3",
   "display_name": "Python 3"
  }
 },
 "nbformat": 4,
 "nbformat_minor": 2,
 "cells": [
  {
   "source": [
    "NAME: SHUBHAM TAKANKHAR <hr>\n",
    "CLASS SY MCA <hr>\n",
    "ROLL NO 54 <hr>"
   ],
   "cell_type": "markdown",
   "metadata": {}
  },
  {
   "source": [
    "## 1.WAP that has class person storing Name and DOB of the person. The program should subtract DOB from todays date and find out whether a person is eligible to vote or not?"
   ],
   "cell_type": "markdown",
   "metadata": {}
  },
  {
   "cell_type": "code",
   "execution_count": 15,
   "metadata": {},
   "outputs": [
    {
     "output_type": "stream",
     "name": "stdout",
     "text": [
      "shubham is eligible for voting\n"
     ]
    }
   ],
   "source": [
    "import datetime\n",
    "now = datetime.datetime.now()\n",
    "class person:\n",
    "    def __init__(self,name,dob):\n",
    "        self.name=name\n",
    "        self.dob=dob\n",
    "    def eligibility(self):\n",
    "        if (now.year - self.dob > 18 ):\n",
    "            print(\"{} is eligible for voting\".format(self.name))\n",
    "        else:\n",
    "            print(\"{} is not eligible for voting{}\".format(self.name,self.dob))\n",
    "\n",
    "shubh=person(\"shubham\",1997)\n",
    "shubh.eligibility()"
   ]
  },
  {
   "source": [
    "## 2.WAP that has  a class store which keeps a record of code and price of each product. Display a menu of all the products to the user and prompt him to enter the quantity of each item required. Generate a bill and display the total amount."
   ],
   "cell_type": "markdown",
   "metadata": {}
  },
  {
   "cell_type": "code",
   "execution_count": 34,
   "metadata": {},
   "outputs": [
    {
     "output_type": "stream",
     "name": "stdout",
     "text": [
      "Product    Price      \n",
      "---------- ----------\n",
      "1 pen        10        \n",
      "2 pencil     5         \n",
      "3 eraser     2         \n",
      "4 sharpner   4         \n",
      "5 scale      10        \n",
      "6 compass    200       \n",
      "7 notebook   50        \n",
      "\n",
      "\n",
      "Your Total Bill is:402\n"
     ]
    }
   ],
   "source": [
    "class store:\n",
    "    def __init__(self):\n",
    "        self.products={\"pen\":10,\"pencil\":\"5\",\"eraser\":2,\"sharpner\":4,\"scale\":10,\"compass\":200,\"notebook\":50}\n",
    "    def display(self):\n",
    "        print (\"{:<10} {:<10} \".format('Product', 'Price')) \n",
    "        print(\"---------- ----------\")\n",
    "        num = 1\n",
    "        prods=['etc']\n",
    "        for key, value in self.products.items(): \n",
    "            print (\"{} {:<10} {:<10}\".format(num,key, value))\n",
    "            prods.append(key)\n",
    "            num+=1\n",
    "            usr='S'\n",
    "            total=0\n",
    "        print(\"\\n\")\n",
    "        while(usr not in ['e','E']):\n",
    "            prodNum=int(input(\"\\n Enter Product No to add to cart:\"))\n",
    "            quantity=int(input(\"Enter the quantity of product (MAX 10):\"))\n",
    "\n",
    "            total += self.products[prods[prodNum]] * quantity\n",
    "         \n",
    "            usr=input(\"Press any key to continue or To Generate Bill Press E \")\n",
    "        print(\"Your Total Bill is:\"+str(total))        \n",
    "        \n",
    "stationary = store()\n",
    "stationary.display()"
   ]
  },
  {
   "source": [
    "## 3.WAP to deposit or withdraw money in a bank account.\n",
    "\n"
   ],
   "cell_type": "markdown",
   "metadata": {}
  },
  {
   "cell_type": "code",
   "execution_count": 6,
   "metadata": {},
   "outputs": [
    {
     "output_type": "stream",
     "name": "stdout",
     "text": [
      "The account is created\n",
      "Successfully Deposited ! \n",
      " Your Updated Balance is:1000\n",
      "Successfully Withdrawn ! \n",
      " Updated Balance is:800\n",
      "Balance in the account is 800\n"
     ]
    }
   ],
   "source": [
    "class Bank:\n",
    "    def __init__(self):\n",
    "        self.balance = 0\n",
    "        print (\"The account is created\")\n",
    "        \n",
    "    def deposit(self):\n",
    "        amount = int(input(\"Enter amount to be deposited:\"))\n",
    "        self.balance += amount\n",
    "        print(\"Successfully Deposited ! \\n Your Updated Balance is:{}\".format(self.balance))        \n",
    "    \n",
    "    def withdraw(self):\n",
    "        amount = int(input((\"Enter the amount to withdraw:\")))\n",
    "        if (amount > self.balance) :\n",
    "            print(\"Insufficient Balance !\")\n",
    "        else:\n",
    "            self.balance -= amount \n",
    "            print(\"Successfully Withdrawn ! \\n Updated Balance is:{}\".format(self.balance))\n",
    "    \n",
    "    def enquiry(self):\n",
    "        print (\"Balance in the account is \"+ str(self.balance))\n",
    "        \n",
    "\n",
    "account = Bank()\n",
    "account.deposit()\n",
    "account.withdraw()\n",
    "account.enquiry()"
   ]
  },
  {
   "source": [
    "## 4.WAP that has a class point with attributes as x and y coordinates.Make two objects of this class  and find the midpoint of both the points."
   ],
   "cell_type": "markdown",
   "metadata": {}
  },
  {
   "cell_type": "code",
   "execution_count": 8,
   "metadata": {},
   "outputs": [
    {
     "output_type": "stream",
     "name": "stdout",
     "text": [
      "Midpoints are X:15.0 Y:15.0\n"
     ]
    }
   ],
   "source": [
    "class point:\n",
    "    def __init__(self,x,y):\n",
    "        self.x=x\n",
    "        self.y=y\n",
    "\n",
    "def midpoint(p1,p2):\n",
    "    x= (p1.x+p2.x)/2\n",
    "    y= (p1.y+p2.y)/2\n",
    "    print(\"Midpoints are X:{} Y:{}\".format(x,y))\n",
    "\n",
    "p1=point(10,10)\n",
    "p2=point(20,20)\n",
    "\n",
    "midpoint(p1,p2)\n",
    "\n"
   ]
  },
  {
   "source": [
    "## 5.WAP that uses a class attribute to define some default titles for faculty in a college. Display neme along with title and department of the college."
   ],
   "cell_type": "markdown",
   "metadata": {}
  },
  {
   "cell_type": "code",
   "execution_count": 13,
   "metadata": {},
   "outputs": [
    {
     "output_type": "stream",
     "name": "stdout",
     "text": [
      "NAME:shubham\nTITLE:Professor\nDEPARTMENT:IT\n"
     ]
    }
   ],
   "source": [
    "class attribute:\n",
    "    def __init__(self,name,title=\"Professor\",dept=\"IT\"):\n",
    "        self.name=name\n",
    "        self.title=title\n",
    "        self.dept=dept\n",
    "\n",
    "name = input(\"Enter your name\")\n",
    "\n",
    "shubh = attribute(name)\n",
    "\n",
    "print(\"NAME:{}\\nTITLE:{}\\nDEPARTMENT:{}\".format(shubh.name,shubh.title,shubh.dept))"
   ]
  },
  {
   "source": [
    "## 6.Write a class that has list of integers as data members. Read(),display, find_largest(), find_smallest() and find_mean() as its member functions.\n"
   ],
   "cell_type": "markdown",
   "metadata": {}
  },
  {
   "cell_type": "code",
   "execution_count": 19,
   "metadata": {},
   "outputs": [
    {
     "output_type": "stream",
     "name": "stdout",
     "text": [
      "List of elements:\n2|5|6|1|10|5|\n10 is the largest element\n1 is the smalles element\nMean:5\n"
     ]
    }
   ],
   "source": [
    "\n",
    "class integers:\n",
    "    def __init__(self,data):\n",
    "        self.data=data\n",
    "    def read(self):\n",
    "        num = int(input(\"Enter Number:\"))\n",
    "        self.data.append(num)\n",
    "    def display(self):\n",
    "        print(\"List of elements:\")\n",
    "        for i in self.data:\n",
    "            print(i,end=\"|\")\n",
    "    def find_largest(self):\n",
    "        print(\"\\n\"+str(max(self.data))+\" is the largest element\")\n",
    "    def find_smallest(self):\n",
    "        print(str(min(self.data))+\" is the smalles element\")\n",
    "    def find_mean(self):\n",
    "        print(\"Mean:\"+str(round(sum(self.data)/len(self.data))))\n",
    "    \n",
    "nums=[2,5,6,1,10]\n",
    "\n",
    "numbers = integers(nums)\n",
    "\n",
    "numbers.read() #5\n",
    "\n",
    "numbers.display()\n",
    "\n",
    "numbers.find_largest()\n",
    "\n",
    "numbers.find_smallest()\n",
    "\n",
    "numbers.find_mean()\n"
   ]
  },
  {
   "cell_type": "code",
   "execution_count": null,
   "metadata": {},
   "outputs": [],
   "source": []
  }
 ]
}