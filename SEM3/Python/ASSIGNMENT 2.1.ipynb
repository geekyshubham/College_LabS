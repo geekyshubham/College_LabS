{
 "metadata": {
  "language_info": {
   "codemirror_mode": {
    "name": "ipython",
    "version": 3
   },
   "file_extension": ".py",
   "mimetype": "text/x-python",
   "name": "python",
   "nbconvert_exporter": "python",
   "pygments_lexer": "ipython3",
   "version": "3.8.5-final"
  },
  "orig_nbformat": 2,
  "kernelspec": {
   "name": "python3",
   "display_name": "Python 3"
  }
 },
 "nbformat": 4,
 "nbformat_minor": 2,
 "cells": [
  {
   "source": [
    "## NAME: SHUBHAM TAKANKHAR\n",
    "## CLASS: SY MCA\n",
    "## ROLL NO 54"
   ],
   "cell_type": "markdown",
   "metadata": {}
  },
  {
   "source": [
    "####\n",
    "1.Write a program that has a class circle.Use a class  variable to define the value of constant PI. Use the class variable to calculate area and circumference of circle with specified radius."
   ],
   "cell_type": "markdown",
   "metadata": {}
  },
  {
   "cell_type": "code",
   "execution_count": 4,
   "metadata": {},
   "outputs": [],
   "source": [
    "class circle():\n",
    "    def __init__(self,radius):\n",
    "        self.radius=radius\n",
    "    def area(self):\n",
    "        return 3.14 * (self.radius**2)\n",
    "    def circumference(self):\n",
    "        return 2 * 3.14 * (self.radius)"
   ]
  },
  {
   "cell_type": "code",
   "execution_count": 5,
   "metadata": {},
   "outputs": [
    {
     "output_type": "stream",
     "name": "stdout",
     "text": [
      "Area of circle: 50.24\nPerimeter of circle: 25.12\n"
     ]
    }
   ],
   "source": [
    "r=int(input(\"Enter radius of circle: \"))\n",
    "obj=circle(r)\n",
    "print(\"Area of circle:\",round(obj.area(),2))\n",
    "print(\"Perimeter of circle:\",round(obj.circumference(),2))\n"
   ]
  },
  {
   "source": [
    "#### 2.WAP that has class student that stores roll number, name and marks(in three subjects) of the students.Display the information(roll number,name and total marks stored about the student"
   ],
   "cell_type": "markdown",
   "metadata": {}
  },
  {
   "cell_type": "code",
   "execution_count": 6,
   "metadata": {},
   "outputs": [
    {
     "output_type": "stream",
     "name": "stdout",
     "text": [
      "Roll Number =  54\nName =  Shubham\nMarks =  [70, 80, 90]\nTotal Marks =  240\nAverage Marks =  80.0\n"
     ]
    }
   ],
   "source": [
    "class Student:\n",
    "    marks = []\n",
    "    def getinfo(self, rollno, name, m1, m2, m3):\n",
    "        Student.rollno = rollno\n",
    "        Student.name = name\n",
    "        Student.marks.append(m1)\n",
    "        Student.marks.append(m2)\n",
    "        Student.marks.append(m3)\n",
    "        \n",
    "    def showinfo(self):\n",
    "        print (\"Roll Number = \", Student.rollno)\n",
    "        print (\"Name = \", Student.name)\n",
    "        print (\"Marks = \", Student.marks)\n",
    "        print (\"Total Marks = \", self.total())\n",
    "        print (\"Average Marks = \", self.average())\n",
    "        \n",
    "    def total(self):\n",
    "        return (Student.marks[0] + Student.marks[1] +Student.marks[2])\n",
    "    \n",
    "    def average(self):\n",
    "        return ((Student.marks[0] + Student.marks[1] +Student.marks[2])/3)\n",
    "    \n",
    "rno = int (input(\"Enter roll number - \"))\n",
    "name = input(\"Enter Name - \")\n",
    "m1 = int (input(\"Enter marks scored in First subject - \"))\n",
    "m2 = int (input(\"Enter marks scored in Second subject - \"))\n",
    "m3 = int (input(\"Enter marks scored in Third subject - \"))\n",
    "\n",
    "s1 = Student()\n",
    "s1.getinfo(rno, name, m1, m2, m3)\n",
    "s1.showinfo()\n"
   ]
  },
  {
   "source": [
    "#### 3.Write a class rectangle that has attributes length and breadth and a method area of the rectangle."
   ],
   "cell_type": "markdown",
   "metadata": {}
  },
  {
   "cell_type": "code",
   "execution_count": 7,
   "metadata": {},
   "outputs": [
    {
     "output_type": "stream",
     "name": "stdout",
     "text": [
      "Area of rectangle: 30\n"
     ]
    }
   ],
   "source": [
    "class rectangle():\n",
    "    def __init__(self,breadth,length):\n",
    "        self.breadth=breadth\n",
    "        self.length=length\n",
    "    def area(self):\n",
    "        return self.breadth*self.length\n",
    "a=int(input(\"Enter length of rectangle: \"))\n",
    "b=int(input(\"Enter breadth of rectangle: \"))\n",
    "obj=rectangle(a,b)\n",
    "print(\"Area of rectangle:\",obj.area())\n"
   ]
  },
  {
   "source": [
    "#### 4.WAP that has class numbers with values stored. With values stored in a list. Write a  class method to find the largest number."
   ],
   "cell_type": "markdown",
   "metadata": {}
  },
  {
   "cell_type": "code",
   "execution_count": 8,
   "metadata": {},
   "outputs": [
    {
     "output_type": "stream",
     "name": "stdout",
     "text": [
      "Largest number in the list is  73\n"
     ]
    }
   ],
   "source": [
    "class number:\n",
    "  def _init_(self,list):\n",
    "    self.list = list\n",
    "ob = number()\n",
    "ob = [45, 73, 37, 22, 15]\n",
    "ob.sort()\n",
    "print(\"Largest number in the list is \", ob[-1])\n"
   ]
  },
  {
   "source": [
    "#### Q5 Write a class that stores a string and all its detail like uppercase characters, vowels, consonants, spaces and  show the statistics of  a string."
   ],
   "cell_type": "markdown",
   "metadata": {}
  },
  {
   "cell_type": "code",
   "execution_count": 2,
   "metadata": {},
   "outputs": [],
   "source": [
    "class stringer:\n",
    "        def __init__(self, string):\n",
    "                self.string = string\n",
    "                self.vowels=list()\n",
    "                self.upper=list()\n",
    "                self.consonants=list()\n",
    "                self.spaces=0\n",
    "\n",
    "        def isUpper(self):\n",
    "            for i in self.string:\n",
    "                if i.isupper():\n",
    "                    self.upper.append(i)\n",
    "        def Vowels(self):\n",
    "            for i in self.string:\n",
    "                if i in ['a','e','i','o','u']:\n",
    "                    self.vowels.append(i)\n",
    "        def Consonants(self):\n",
    "             for i in self.string:\n",
    "                if i not in ['a','e','i','o','u',' ']:\n",
    "                    self.consonants.append(i)\n",
    "        def Spaces(self):\n",
    "            for  i in self.string:\n",
    "                if i in [' ']:\n",
    "                    self.spaces+=1\n",
    "\n",
    "        def stats(self):\n",
    "            self.isUpper()\n",
    "            self.Vowels()\n",
    "            self.Consonants()\n",
    "            self.Spaces()\n",
    "            print(\"Uppercase letters are:\"+str(self.upper))\n",
    "            print(\"Vowels in the strings are:\"+str(self.vowels))\n",
    "            print(\"consonants in the strings are:\"+str(self.consonants))\n",
    "            print(\"no of spaces included in the string are:\"+str(self.spaces))"
   ]
  },
  {
   "cell_type": "code",
   "execution_count": 3,
   "metadata": {},
   "outputs": [
    {
     "output_type": "stream",
     "name": "stdout",
     "text": [
      "Uppercase letters are:['S', 'T']\nVowels in the strings are:['u', 'a', 'a', 'a', 'a']\nconsonants in the strings are:['S', 'h', 'b', 'h', 'm', 'T', 'k', 'n', 'k', 'h', 'r']\nno of spaces included in the string are:1\n"
     ]
    }
   ],
   "source": [
    "myString = stringer(\"Shubham Takankhar\")\n",
    "myString.stats()"
   ]
  },
  {
   "cell_type": "code",
   "execution_count": null,
   "metadata": {},
   "outputs": [],
   "source": []
  }
 ]
}